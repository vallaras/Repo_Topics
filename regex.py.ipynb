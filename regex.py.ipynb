{
 "cells": [
  {
   "cell_type": "code",
   "execution_count": 5,
   "id": "91785b74",
   "metadata": {},
   "outputs": [],
   "source": [
    "import re\n",
    "match = re.search(r'computer', 'GeeksforGeeks: A computer science \\portal for geeks')"
   ]
  },
  {
   "cell_type": "code",
   "execution_count": 6,
   "id": "5558f912",
   "metadata": {},
   "outputs": [
    {
     "data": {
      "text/plain": [
       "<re.Match object; span=(17, 25), match='computer'>"
      ]
     },
     "execution_count": 6,
     "metadata": {},
     "output_type": "execute_result"
    }
   ],
   "source": [
    "match"
   ]
  },
  {
   "cell_type": "code",
   "execution_count": 7,
   "id": "6ff1793c",
   "metadata": {},
   "outputs": [
    {
     "data": {
      "text/plain": [
       "'computer'"
      ]
     },
     "execution_count": 7,
     "metadata": {},
     "output_type": "execute_result"
    }
   ],
   "source": [
    "match.group()"
   ]
  },
  {
   "cell_type": "code",
   "execution_count": 8,
   "id": "dcfe7ee1",
   "metadata": {},
   "outputs": [
    {
     "data": {
      "text/plain": [
       "25"
      ]
     },
     "execution_count": 8,
     "metadata": {},
     "output_type": "execute_result"
    }
   ],
   "source": [
    "match.start()\n",
    "match.end()"
   ]
  },
  {
   "cell_type": "code",
   "execution_count": 9,
   "id": "0a9721f3",
   "metadata": {},
   "outputs": [
    {
     "data": {
      "text/plain": [
       "17"
      ]
     },
     "execution_count": 9,
     "metadata": {},
     "output_type": "execute_result"
    }
   ],
   "source": [
    "match.start()"
   ]
  },
  {
   "cell_type": "code",
   "execution_count": 20,
   "id": "ea0865e1",
   "metadata": {},
   "outputs": [
    {
     "name": "stdout",
     "output_type": "stream",
     "text": [
      "['computer']\n"
     ]
    }
   ],
   "source": [
    "print(re.findall(r'[c]omputer', 'GeeksforGeeks A computer science portal for geeks'))"
   ]
  },
  {
   "cell_type": "code",
   "execution_count": 28,
   "id": "b5830414",
   "metadata": {},
   "outputs": [
    {
     "name": "stdout",
     "output_type": "stream",
     "text": [
      "Good <re.Match object; span=(0, 1), match='a'>\n"
     ]
    }
   ],
   "source": [
    "print('Good',re.search(r'[a-z]','a'))"
   ]
  },
  {
   "cell_type": "code",
   "execution_count": 33,
   "id": "e5709700",
   "metadata": {},
   "outputs": [
    {
     "name": "stdout",
     "output_type": "stream",
     "text": [
      "None\n"
     ]
    }
   ],
   "source": [
    "print(re.search(r'[^a-z]', 'c'))"
   ]
  },
  {
   "cell_type": "code",
   "execution_count": 34,
   "id": "ec1c2c43",
   "metadata": {},
   "outputs": [
    {
     "name": "stdout",
     "output_type": "stream",
     "text": [
      "<re.Match object; span=(0, 2), match='GE'>\n"
     ]
    }
   ],
   "source": [
    "print(re.search(r'G[^e]', 'GEEks'))"
   ]
  },
  {
   "cell_type": "code",
   "execution_count": 40,
   "id": "dc916968",
   "metadata": {},
   "outputs": [
    {
     "name": "stdout",
     "output_type": "stream",
     "text": [
      "Geeks: <re.Match object; span=(0, 5), match='Geeks'>\n",
      "GeeksforGeeks: None\n"
     ]
    }
   ],
   "source": [
    "print('Geeks:', re.search(r'\\bGeeks\\b', 'Geeks'))\n",
    "print('GeeksforGeeks:', re.search(r'\\bGeeks\\b', 'GeeksforGeeks'))"
   ]
  },
  {
   "cell_type": "code",
   "execution_count": 44,
   "id": "89bf81a1",
   "metadata": {},
   "outputs": [
    {
     "name": "stdout",
     "output_type": "stream",
     "text": [
      "Beg. of String: None\n",
      "Beg. of String: <re.Match object; span=(0, 4), match='Geek'>\n",
      "End of String: <re.Match object; span=(31, 36), match='Geeks'>\n"
     ]
    }
   ],
   "source": [
    "match = re.search(r'^Geek', 'Campus Geek of the month')\n",
    "print('Beg. of String:', match)\n",
    "match = re.search(r'^Geek', 'Geek of the month')\n",
    "print('Beg. of String:', match)\n",
    "match = re.search(r'Geeks$', 'Compute science portal-GeeksforGeeks')\n",
    "print('End of String:', match)"
   ]
  },
  {
   "cell_type": "code",
   "execution_count": 43,
   "id": "fa22b127",
   "metadata": {},
   "outputs": [],
   "source": [
    "match=re.search(r'^Geek','campus Geek of the month')"
   ]
  },
  {
   "cell_type": "code",
   "execution_count": 42,
   "id": "b04cf70d",
   "metadata": {},
   "outputs": [
    {
     "name": "stdout",
     "output_type": "stream",
     "text": [
      "string: None\n"
     ]
    }
   ],
   "source": [
    "print('beg.string:',match)"
   ]
  },
  {
   "cell_type": "code",
   "execution_count": 47,
   "id": "b033921b",
   "metadata": {},
   "outputs": [
    {
     "name": "stdout",
     "output_type": "stream",
     "text": [
      "beg.string: <re.Match object; span=(0, 4), match='Geek'>\n"
     ]
    }
   ],
   "source": [
    "match=re.search(r'^Geek','Geek of the month')\n",
    "print('beg.string:',match)"
   ]
  },
  {
   "cell_type": "code",
   "execution_count": 54,
   "id": "efb81481",
   "metadata": {},
   "outputs": [
    {
     "name": "stdout",
     "output_type": "stream",
     "text": [
      "Color <re.Match object; span=(0, 5), match='color'>\n",
      "Color <re.Match object; span=(0, 5), match='color'>\n"
     ]
    }
   ],
   "source": [
    "print('Color',re.search(r'colou?r', 'color')) \n",
    "print('Color',re.search(r'colo?r', 'color'))"
   ]
  },
  {
   "cell_type": "code",
   "execution_count": 56,
   "id": "2cf40c88",
   "metadata": {},
   "outputs": [
    {
     "name": "stdout",
     "output_type": "stream",
     "text": [
      "Date{mm-dd-yyyy}: None\n"
     ]
    }
   ],
   "source": [
    "print('Date{mm-dd-yyyy}:', re.search(r'[\\d]{2}-[\\d]{1}-[\\d]{4}','18-08-2020'))"
   ]
  },
  {
   "cell_type": "code",
   "execution_count": 63,
   "id": "3a82adb1",
   "metadata": {},
   "outputs": [],
   "source": [
    "a=('Date{mm-dd-yyyy}:',re.search(r'[\\d]{2}-[\\d]{2}-[\\d]{4}','02-02-2000'))"
   ]
  },
  {
   "cell_type": "code",
   "execution_count": 64,
   "id": "19616367",
   "metadata": {},
   "outputs": [
    {
     "data": {
      "text/plain": [
       "('Date{mm-dd-yyyy}:', <re.Match object; span=(0, 10), match='02-02-2000'>)"
      ]
     },
     "execution_count": 64,
     "metadata": {},
     "output_type": "execute_result"
    }
   ],
   "source": [
    "a"
   ]
  },
  {
   "cell_type": "code",
   "execution_count": 80,
   "id": "35f1340f",
   "metadata": {},
   "outputs": [
    {
     "name": "stdout",
     "output_type": "stream",
     "text": [
      "Three Digit: <re.Match object; span=(0, 3), match='122'>\n"
     ]
    }
   ],
   "source": [
    "print('Three Digit:', re.search(r'[\\d]{3,4}', '122'))"
   ]
  },
  {
   "cell_type": "code",
   "execution_count": 81,
   "id": "b3b36288",
   "metadata": {},
   "outputs": [],
   "source": [
    "a=re.search(r'[\\d]{2,4}','2000')"
   ]
  },
  {
   "cell_type": "code",
   "execution_count": 82,
   "id": "93278e82",
   "metadata": {},
   "outputs": [
    {
     "data": {
      "text/plain": [
       "<re.Match object; span=(0, 4), match='2000'>"
      ]
     },
     "execution_count": 82,
     "metadata": {},
     "output_type": "execute_result"
    }
   ],
   "source": [
    "a"
   ]
  },
  {
   "cell_type": "code",
   "execution_count": 90,
   "id": "6fb095c8",
   "metadata": {},
   "outputs": [
    {
     "name": "stdout",
     "output_type": "stream",
     "text": [
      "<re.Match object; span=(0, 1), match='6'>\n"
     ]
    }
   ],
   "source": [
    "print(re.search(r'[\\d]{1,}','6th Floor, A-118,\\Sector-136, Noida, Uttar Pradesh - 201305'))"
   ]
  },
  {
   "cell_type": "code",
   "execution_count": 92,
   "id": "eae0e9f4",
   "metadata": {},
   "outputs": [
    {
     "name": "stdout",
     "output_type": "stream",
     "text": [
      "compiled reg expr <re.Match object; span=(0, 10), match='26-08-2020'>\n"
     ]
    }
   ],
   "source": [
    "regex = re.compile(r'([\\d]{2})-([\\d]{2})-([\\d]{4})')\n",
    "print('compiled reg expr', regex.search('26-08-2020'))"
   ]
  },
  {
   "cell_type": "code",
   "execution_count": 93,
   "id": "185eac23",
   "metadata": {},
   "outputs": [
    {
     "name": "stdout",
     "output_type": "stream",
     "text": [
      "26.08.2020\n"
     ]
    }
   ],
   "source": [
    "print(regex.sub(r'\\1.\\2.\\3', '26-08-2020'))"
   ]
  },
  {
   "cell_type": "code",
   "execution_count": 101,
   "id": "4abd42eb",
   "metadata": {},
   "outputs": [
    {
     "name": "stdout",
     "output_type": "stream",
     "text": [
      "Enter the PANCARDNO:VVVVV8000Q\n"
     ]
    },
    {
     "data": {
      "text/plain": [
       "True"
      ]
     },
     "execution_count": 101,
     "metadata": {},
     "output_type": "execute_result"
    }
   ],
   "source": [
    "import re   \n",
    "def validcard(match):\n",
    "    reg='[A-Z]{5}[0-9]{4}[A-Z]{1}'\n",
    "    a=re.compile(reg)\n",
    "    if(re.search(a,match) and len(match)==10):\n",
    "        return True\n",
    "    else:\n",
    "        return False \n",
    "validcard(input(\"Enter the PANCARDNO:\"))"
   ]
  },
  {
   "cell_type": "code",
   "execution_count": null,
   "id": "2739d20d",
   "metadata": {},
   "outputs": [],
   "source": []
  }
 ],
 "metadata": {
  "kernelspec": {
   "display_name": "Python 3 (ipykernel)",
   "language": "python",
   "name": "python3"
  },
  "language_info": {
   "codemirror_mode": {
    "name": "ipython",
    "version": 3
   },
   "file_extension": ".py",
   "mimetype": "text/x-python",
   "name": "python",
   "nbconvert_exporter": "python",
   "pygments_lexer": "ipython3",
   "version": "3.9.7"
  }
 },
 "nbformat": 4,
 "nbformat_minor": 5
}
