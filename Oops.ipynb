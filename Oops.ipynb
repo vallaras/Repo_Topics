{
 "cells": [
  {
   "cell_type": "markdown",
   "id": "17a02939",
   "metadata": {},
   "source": [
    "# Object Oriented Programing"
   ]
  },
  {
   "cell_type": "code",
   "execution_count": 5,
   "id": "cf26b4ba",
   "metadata": {},
   "outputs": [],
   "source": [
    "class Nameofclass():\n",
    "    def __init__(self,param1,param2):\n",
    "        self.param1=param1\n",
    "        self.param2=param2\n",
    "    def some_method(self):\n",
    "        print(self.param1)"
   ]
  },
  {
   "cell_type": "code",
   "execution_count": 6,
   "id": "b4906018",
   "metadata": {},
   "outputs": [],
   "source": [
    "mylist=[1,2,3]"
   ]
  },
  {
   "cell_type": "code",
   "execution_count": 7,
   "id": "78bee1ad",
   "metadata": {},
   "outputs": [],
   "source": [
    "myset=set()"
   ]
  },
  {
   "cell_type": "code",
   "execution_count": 9,
   "id": "3c791677",
   "metadata": {},
   "outputs": [
    {
     "data": {
      "text/plain": [
       "list"
      ]
     },
     "execution_count": 9,
     "metadata": {},
     "output_type": "execute_result"
    }
   ],
   "source": [
    "type(mylist)"
   ]
  },
  {
   "cell_type": "code",
   "execution_count": 24,
   "id": "dec8acde",
   "metadata": {},
   "outputs": [],
   "source": [
    "class Dog():\n",
    "    def __init__(self,breed,name,spots):\n",
    "        self.breed=breed\n",
    "        self.name=name\n",
    "        self.spots=spots"
   ]
  },
  {
   "cell_type": "code",
   "execution_count": 35,
   "id": "d6d679a2",
   "metadata": {},
   "outputs": [],
   "source": [
    "my_dog=Dog(breed=\"Eddy\",name=\"snowball\",spots=\"NoSpots\")"
   ]
  },
  {
   "cell_type": "code",
   "execution_count": 33,
   "id": "7211d064",
   "metadata": {},
   "outputs": [
    {
     "data": {
      "text/plain": [
       "'No Spots'"
      ]
     },
     "execution_count": 33,
     "metadata": {},
     "output_type": "execute_result"
    }
   ],
   "source": [
    "my_dog.breed\n",
    "my_dog.name\n",
    "my_dog.spots"
   ]
  },
  {
   "cell_type": "code",
   "execution_count": 73,
   "id": "bdd8e8db",
   "metadata": {},
   "outputs": [],
   "source": [
    "class Dog():\n",
    "    spect=\"At work\"\n",
    "    def __init__(self,breed,name,spots):\n",
    "        self.breed=breed\n",
    "        self.name=name\n",
    "        self.spots=spots\n",
    "    def bark(self,number):\n",
    "        print(\"woof! my name is {} and the number is {}\".format(self.name,number))"
   ]
  },
  {
   "cell_type": "code",
   "execution_count": 74,
   "id": "e852f61f",
   "metadata": {},
   "outputs": [],
   "source": [
    "#my_dog=Dog(breed=\"Eddy\",name=\"snowball\",spots=\"NoSpots\")\n",
    "my_dog=Dog('Lap','frankie','sell')"
   ]
  },
  {
   "cell_type": "code",
   "execution_count": 75,
   "id": "b3af73eb",
   "metadata": {},
   "outputs": [
    {
     "data": {
      "text/plain": [
       "'sell'"
      ]
     },
     "execution_count": 75,
     "metadata": {},
     "output_type": "execute_result"
    }
   ],
   "source": [
    "my_dog.breed\n",
    "my_dog.name\n",
    "my_dog.spots"
   ]
  },
  {
   "cell_type": "code",
   "execution_count": 76,
   "id": "300e8065",
   "metadata": {},
   "outputs": [
    {
     "data": {
      "text/plain": [
       "'At work'"
      ]
     },
     "execution_count": 76,
     "metadata": {},
     "output_type": "execute_result"
    }
   ],
   "source": [
    "my_dog.spect"
   ]
  },
  {
   "cell_type": "code",
   "execution_count": 77,
   "id": "aac8e47a",
   "metadata": {},
   "outputs": [
    {
     "data": {
      "text/plain": [
       "'Lap'"
      ]
     },
     "execution_count": 77,
     "metadata": {},
     "output_type": "execute_result"
    }
   ],
   "source": [
    "my_dog.breed"
   ]
  },
  {
   "cell_type": "code",
   "execution_count": 78,
   "id": "bef5ed1d",
   "metadata": {},
   "outputs": [
    {
     "data": {
      "text/plain": [
       "'frankie'"
      ]
     },
     "execution_count": 78,
     "metadata": {},
     "output_type": "execute_result"
    }
   ],
   "source": [
    "my_dog.name"
   ]
  },
  {
   "cell_type": "code",
   "execution_count": 79,
   "id": "daa82fb2",
   "metadata": {},
   "outputs": [
    {
     "data": {
      "text/plain": [
       "'sell'"
      ]
     },
     "execution_count": 79,
     "metadata": {},
     "output_type": "execute_result"
    }
   ],
   "source": [
    "my_dog.spots"
   ]
  },
  {
   "cell_type": "code",
   "execution_count": 82,
   "id": "42a7d272",
   "metadata": {},
   "outputs": [
    {
     "name": "stdout",
     "output_type": "stream",
     "text": [
      "woof! my name is frankie and the number is 10\n"
     ]
    }
   ],
   "source": [
    "my_dog.bark(10)"
   ]
  },
  {
   "cell_type": "code",
   "execution_count": 83,
   "id": "e7c543d7",
   "metadata": {},
   "outputs": [
    {
     "data": {
      "text/plain": [
       "'frankie'"
      ]
     },
     "execution_count": 83,
     "metadata": {},
     "output_type": "execute_result"
    }
   ],
   "source": [
    "my_dog.name"
   ]
  },
  {
   "cell_type": "code",
   "execution_count": 113,
   "id": "b9e11e29",
   "metadata": {},
   "outputs": [],
   "source": [
    "class circle():\n",
    "    pi=3.15\n",
    "    def __init__(self,radius=1):\n",
    "        self.radius=radius\n",
    "        self.area=radius*radius*self.pi\n",
    "    def get_circumsfrance(self):\n",
    "        return self.radius * circle.pi *2"
   ]
  },
  {
   "cell_type": "code",
   "execution_count": 114,
   "id": "f5a32ccd",
   "metadata": {},
   "outputs": [],
   "source": [
    "my_circle=circle(10)"
   ]
  },
  {
   "cell_type": "code",
   "execution_count": 119,
   "id": "1ac8cfce",
   "metadata": {},
   "outputs": [
    {
     "data": {
      "text/plain": [
       "63.0"
      ]
     },
     "execution_count": 119,
     "metadata": {},
     "output_type": "execute_result"
    }
   ],
   "source": [
    "my_circle.get_circumsfrance()"
   ]
  },
  {
   "cell_type": "code",
   "execution_count": 116,
   "id": "77504b2c",
   "metadata": {},
   "outputs": [
    {
     "data": {
      "text/plain": [
       "3.15"
      ]
     },
     "execution_count": 116,
     "metadata": {},
     "output_type": "execute_result"
    }
   ],
   "source": [
    "my_circle.pi"
   ]
  },
  {
   "cell_type": "code",
   "execution_count": 117,
   "id": "f98a3a05",
   "metadata": {},
   "outputs": [
    {
     "data": {
      "text/plain": [
       "10"
      ]
     },
     "execution_count": 117,
     "metadata": {},
     "output_type": "execute_result"
    }
   ],
   "source": [
    "my_circle.radius"
   ]
  },
  {
   "cell_type": "code",
   "execution_count": 118,
   "id": "78aa7bc9",
   "metadata": {},
   "outputs": [
    {
     "data": {
      "text/plain": [
       "315.0"
      ]
     },
     "execution_count": 118,
     "metadata": {},
     "output_type": "execute_result"
    }
   ],
   "source": [
    "my_circle.area"
   ]
  },
  {
   "cell_type": "code",
   "execution_count": 144,
   "id": "d71e68ff",
   "metadata": {},
   "outputs": [],
   "source": [
    "class Animal():\n",
    "    def __init__(self):\n",
    "        print(\"Animal created\")\n",
    "    def who(self):\n",
    "        print(\"I am Animal\")\n",
    "    def eat(self):\n",
    "        print(\"i am eat\")"
   ]
  },
  {
   "cell_type": "code",
   "execution_count": 145,
   "id": "da00518e",
   "metadata": {},
   "outputs": [],
   "source": [
    "class Dog(Animal):\n",
    "    def __init__(self):\n",
    "        Animal.__init__(self)\n",
    "        print(\"Dog created\")\n",
    "    def who(self):\n",
    "        print(\"i am a dog!\")\n",
    "    def eat(self):\n",
    "        print(\"i am eat and succesfully\")\n",
    "    def bark(self):\n",
    "        print(\"woof!\")    "
   ]
  },
  {
   "cell_type": "code",
   "execution_count": 146,
   "id": "495f46ee",
   "metadata": {},
   "outputs": [
    {
     "name": "stdout",
     "output_type": "stream",
     "text": [
      "Animal created\n",
      "Dog created\n"
     ]
    }
   ],
   "source": [
    "mydog=Dog()"
   ]
  },
  {
   "cell_type": "code",
   "execution_count": 147,
   "id": "99ed40c0",
   "metadata": {},
   "outputs": [
    {
     "name": "stdout",
     "output_type": "stream",
     "text": [
      "woof!\n"
     ]
    }
   ],
   "source": [
    "mydog.bark()"
   ]
  },
  {
   "cell_type": "code",
   "execution_count": 141,
   "id": "6166fdda",
   "metadata": {},
   "outputs": [
    {
     "name": "stdout",
     "output_type": "stream",
     "text": [
      "i am eat and succesfully\n"
     ]
    }
   ],
   "source": [
    "mydog.eat()"
   ]
  },
  {
   "cell_type": "code",
   "execution_count": 135,
   "id": "8b50d5f5",
   "metadata": {},
   "outputs": [
    {
     "name": "stdout",
     "output_type": "stream",
     "text": [
      "i am a dog!\n"
     ]
    }
   ],
   "source": [
    "mydog.who()"
   ]
  },
  {
   "cell_type": "code",
   "execution_count": 138,
   "id": "e3422f8d",
   "metadata": {},
   "outputs": [
    {
     "name": "stdout",
     "output_type": "stream",
     "text": [
      "i am eat\n"
     ]
    }
   ],
   "source": [
    "mydog.eat()"
   ]
  },
  {
   "cell_type": "code",
   "execution_count": 126,
   "id": "0822665a",
   "metadata": {},
   "outputs": [
    {
     "name": "stdout",
     "output_type": "stream",
     "text": [
      "Animal created\n"
     ]
    }
   ],
   "source": [
    "my_wild=Animal()"
   ]
  },
  {
   "cell_type": "code",
   "execution_count": 127,
   "id": "18ff80bf",
   "metadata": {},
   "outputs": [
    {
     "name": "stdout",
     "output_type": "stream",
     "text": [
      "i am eat\n"
     ]
    }
   ],
   "source": [
    "my_wild.eat()"
   ]
  },
  {
   "cell_type": "code",
   "execution_count": 128,
   "id": "433012e1",
   "metadata": {},
   "outputs": [
    {
     "name": "stdout",
     "output_type": "stream",
     "text": [
      "I am Animal\n"
     ]
    }
   ],
   "source": [
    "my_wild.who()"
   ]
  },
  {
   "cell_type": "markdown",
   "id": "1a97cb10",
   "metadata": {},
   "source": [
    "# Polymorphism"
   ]
  },
  {
   "cell_type": "code",
   "execution_count": 148,
   "id": "b581e06d",
   "metadata": {},
   "outputs": [],
   "source": [
    "class Dog():\n",
    "    def __init__(self,name):\n",
    "        self.name=name\n",
    "    def speak(self):\n",
    "        return self.name + \"says woof!\"        "
   ]
  },
  {
   "cell_type": "code",
   "execution_count": 149,
   "id": "1ed09b06",
   "metadata": {},
   "outputs": [],
   "source": [
    "class Cat():\n",
    "    def __init__(self,name):\n",
    "        self.name=name\n",
    "    def speak(self):\n",
    "        return self.name + \"says Meow!\"        "
   ]
  },
  {
   "cell_type": "code",
   "execution_count": 154,
   "id": "564f0e9c",
   "metadata": {},
   "outputs": [],
   "source": [
    "Eddy=Dog(\"Eddy\")"
   ]
  },
  {
   "cell_type": "code",
   "execution_count": 155,
   "id": "bb574016",
   "metadata": {},
   "outputs": [
    {
     "name": "stdout",
     "output_type": "stream",
     "text": [
      "Eddysays woof!\n"
     ]
    }
   ],
   "source": [
    "print(Eddy.speak())"
   ]
  },
  {
   "cell_type": "code",
   "execution_count": 151,
   "id": "9af8a87a",
   "metadata": {},
   "outputs": [],
   "source": [
    "Bow=Cat(\"Bow\")"
   ]
  },
  {
   "cell_type": "code",
   "execution_count": 156,
   "id": "69867539",
   "metadata": {},
   "outputs": [
    {
     "name": "stdout",
     "output_type": "stream",
     "text": [
      "Bowsays Meow!\n"
     ]
    }
   ],
   "source": [
    "print(Bow.speak())"
   ]
  },
  {
   "cell_type": "code",
   "execution_count": 157,
   "id": "6c7d2121",
   "metadata": {},
   "outputs": [
    {
     "name": "stdout",
     "output_type": "stream",
     "text": [
      "<class '__main__.Dog'>\n",
      "<class 'str'>\n",
      "<class '__main__.Cat'>\n",
      "<class 'str'>\n"
     ]
    }
   ],
   "source": [
    "for pet in [Eddy,Bow]:\n",
    "    print(type(pet))\n",
    "    print(type(pet.speak()))"
   ]
  },
  {
   "cell_type": "code",
   "execution_count": 158,
   "id": "2c5b9713",
   "metadata": {},
   "outputs": [
    {
     "name": "stdout",
     "output_type": "stream",
     "text": [
      "<__main__.Dog object at 0x00000242B79351F0>\n",
      "<__main__.Cat object at 0x00000242B7AC6C70>\n"
     ]
    }
   ],
   "source": [
    "for pet in [Eddy,Bow]:\n",
    "    print(pet)"
   ]
  },
  {
   "cell_type": "code",
   "execution_count": 159,
   "id": "3d3d4b59",
   "metadata": {},
   "outputs": [],
   "source": [
    "def pet_speak(pet):\n",
    "    print(pet.speak())"
   ]
  },
  {
   "cell_type": "code",
   "execution_count": 160,
   "id": "c1f68deb",
   "metadata": {},
   "outputs": [
    {
     "name": "stdout",
     "output_type": "stream",
     "text": [
      "Eddysays woof!\n"
     ]
    }
   ],
   "source": [
    "pet_speak(Eddy)"
   ]
  },
  {
   "cell_type": "code",
   "execution_count": 161,
   "id": "8d95c9aa",
   "metadata": {},
   "outputs": [
    {
     "name": "stdout",
     "output_type": "stream",
     "text": [
      "Bowsays Meow!\n"
     ]
    }
   ],
   "source": [
    "pet_speak(Bow)"
   ]
  },
  {
   "cell_type": "code",
   "execution_count": 162,
   "id": "6c18c4fc",
   "metadata": {},
   "outputs": [],
   "source": [
    "class Animal():\n",
    "    def __init__(self,name):\n",
    "        self.name=name\n",
    "    def speak(self):\n",
    "        raise NotimplemantError(\"subclass must implement this is apstract method\")"
   ]
  },
  {
   "cell_type": "code",
   "execution_count": 175,
   "id": "4fe4221c",
   "metadata": {},
   "outputs": [
    {
     "ename": "NameError",
     "evalue": "name 'NotimplemantError' is not defined",
     "output_type": "error",
     "traceback": [
      "\u001b[1;31m---------------------------------------------------------------------------\u001b[0m",
      "\u001b[1;31mNameError\u001b[0m                                 Traceback (most recent call last)",
      "\u001b[1;32m~\\AppData\\Local\\Temp/ipykernel_39276/3932494781.py\u001b[0m in \u001b[0;36m<module>\u001b[1;34m\u001b[0m\n\u001b[0;32m      1\u001b[0m \u001b[0mmyanimal\u001b[0m\u001b[1;33m=\u001b[0m\u001b[0mAnimal\u001b[0m\u001b[1;33m(\u001b[0m\u001b[1;34m\"jacky\"\u001b[0m\u001b[1;33m)\u001b[0m\u001b[1;33m\u001b[0m\u001b[1;33m\u001b[0m\u001b[0m\n\u001b[1;32m----> 2\u001b[1;33m \u001b[0mmyanimal\u001b[0m\u001b[1;33m.\u001b[0m\u001b[0mspeak\u001b[0m\u001b[1;33m(\u001b[0m\u001b[1;33m)\u001b[0m\u001b[1;33m\u001b[0m\u001b[1;33m\u001b[0m\u001b[0m\n\u001b[0m",
      "\u001b[1;32m~\\AppData\\Local\\Temp/ipykernel_39276/4158031728.py\u001b[0m in \u001b[0;36mspeak\u001b[1;34m(self)\u001b[0m\n\u001b[0;32m      3\u001b[0m         \u001b[0mself\u001b[0m\u001b[1;33m.\u001b[0m\u001b[0mname\u001b[0m\u001b[1;33m=\u001b[0m\u001b[0mname\u001b[0m\u001b[1;33m\u001b[0m\u001b[1;33m\u001b[0m\u001b[0m\n\u001b[0;32m      4\u001b[0m     \u001b[1;32mdef\u001b[0m \u001b[0mspeak\u001b[0m\u001b[1;33m(\u001b[0m\u001b[0mself\u001b[0m\u001b[1;33m)\u001b[0m\u001b[1;33m:\u001b[0m\u001b[1;33m\u001b[0m\u001b[1;33m\u001b[0m\u001b[0m\n\u001b[1;32m----> 5\u001b[1;33m         \u001b[1;32mraise\u001b[0m \u001b[0mNotimplemantError\u001b[0m\u001b[1;33m(\u001b[0m\u001b[1;34m\"subclass must implement this is apstract method\"\u001b[0m\u001b[1;33m)\u001b[0m\u001b[1;33m\u001b[0m\u001b[1;33m\u001b[0m\u001b[0m\n\u001b[0m",
      "\u001b[1;31mNameError\u001b[0m: name 'NotimplemantError' is not defined"
     ]
    }
   ],
   "source": [
    "myanimal=Animal(\"jacky\")"
   ]
  },
  {
   "cell_type": "code",
   "execution_count": 169,
   "id": "537b7eca",
   "metadata": {},
   "outputs": [],
   "source": [
    "class Dog(Animal):\n",
    "    def speak(self):\n",
    "        return self.name+ \"says Woof!\""
   ]
  },
  {
   "cell_type": "code",
   "execution_count": 170,
   "id": "94f20239",
   "metadata": {},
   "outputs": [],
   "source": [
    "class Cat(Animal):\n",
    "    def speak(self):\n",
    "        return self.name+ \"says Meow!\""
   ]
  },
  {
   "cell_type": "code",
   "execution_count": 171,
   "id": "bc4dfaba",
   "metadata": {},
   "outputs": [],
   "source": [
    "fido=Dog(\"Fido\")"
   ]
  },
  {
   "cell_type": "code",
   "execution_count": 172,
   "id": "b488842f",
   "metadata": {},
   "outputs": [],
   "source": [
    "isis=Cat(\"Isis\")"
   ]
  },
  {
   "cell_type": "code",
   "execution_count": 173,
   "id": "c09477aa",
   "metadata": {},
   "outputs": [
    {
     "name": "stdout",
     "output_type": "stream",
     "text": [
      "Fidosays Woof!\n"
     ]
    }
   ],
   "source": [
    "print(fido.speak())"
   ]
  },
  {
   "cell_type": "code",
   "execution_count": 174,
   "id": "2726ecfc",
   "metadata": {},
   "outputs": [
    {
     "name": "stdout",
     "output_type": "stream",
     "text": [
      "Isissays Meow!\n"
     ]
    }
   ],
   "source": [
    "print(isis.speak())"
   ]
  },
  {
   "cell_type": "code",
   "execution_count": null,
   "id": "0e32c4be",
   "metadata": {},
   "outputs": [],
   "source": []
  }
 ],
 "metadata": {
  "kernelspec": {
   "display_name": "Python 3 (ipykernel)",
   "language": "python",
   "name": "python3"
  },
  "language_info": {
   "codemirror_mode": {
    "name": "ipython",
    "version": 3
   },
   "file_extension": ".py",
   "mimetype": "text/x-python",
   "name": "python",
   "nbconvert_exporter": "python",
   "pygments_lexer": "ipython3",
   "version": "3.9.7"
  }
 },
 "nbformat": 4,
 "nbformat_minor": 5
}
