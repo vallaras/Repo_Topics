{
 "cells": [
  {
   "cell_type": "code",
   "execution_count": 2,
   "id": "4db55cc1",
   "metadata": {},
   "outputs": [],
   "source": [
    "import requests\n",
    "import json\n",
    "import warnings\n",
    "warnings.filterwarnings('ignore')\n",
    "import pandas as pd\n",
    "import datetime"
   ]
  },
  {
   "cell_type": "code",
   "execution_count": 3,
   "id": "f922be32",
   "metadata": {},
   "outputs": [],
   "source": [
    "api1=requests.get('https://pharmanlp-177020.uc.r.appspot.com/api/1/StudyHack/ae/subject/list', verify=False)"
   ]
  },
  {
   "cell_type": "code",
   "execution_count": 4,
   "id": "7e6f562f",
   "metadata": {},
   "outputs": [],
   "source": [
    "api2=requests.get('https://pharmanlp-177020.uc.r.appspot.com/api/1/StudyHack/cm/subject/list', verify=False)"
   ]
  },
  {
   "cell_type": "code",
   "execution_count": 5,
   "id": "d0ae6ff0",
   "metadata": {},
   "outputs": [],
   "source": [
    "ae_str=json.loads(api1.text)"
   ]
  },
  {
   "cell_type": "code",
   "execution_count": 6,
   "id": "f13177c6",
   "metadata": {},
   "outputs": [
    {
     "data": {
      "text/plain": [
       "dict"
      ]
     },
     "execution_count": 6,
     "metadata": {},
     "output_type": "execute_result"
    }
   ],
   "source": [
    "type(ae_str)"
   ]
  },
  {
   "cell_type": "code",
   "execution_count": 8,
   "id": "f876d0f0",
   "metadata": {},
   "outputs": [],
   "source": [
    "cm_str1=json.loads(api2.text)"
   ]
  },
  {
   "cell_type": "code",
   "execution_count": 9,
   "id": "1c8cf4f4",
   "metadata": {},
   "outputs": [
    {
     "name": "stdout",
     "output_type": "stream",
     "text": [
      "    status    data                            request_id\n",
      "0  success   76809  423ea130-6f7a-43b0-8252-78e3dbce262d\n",
      "1  success  105792  423ea130-6f7a-43b0-8252-78e3dbce262d\n",
      "2  success  117691  423ea130-6f7a-43b0-8252-78e3dbce262d\n",
      "3  success  120205  423ea130-6f7a-43b0-8252-78e3dbce262d\n",
      "4  success  130301  423ea130-6f7a-43b0-8252-78e3dbce262d\n",
      "    status    data                            request_id\n",
      "0  success   76809  2704450b-b32e-412c-b536-6e1020727315\n",
      "1  success  130301  2704450b-b32e-412c-b536-6e1020727315\n",
      "2  success  132645  2704450b-b32e-412c-b536-6e1020727315\n",
      "3  success  138700  2704450b-b32e-412c-b536-6e1020727315\n",
      "4  success  166621  2704450b-b32e-412c-b536-6e1020727315\n"
     ]
    }
   ],
   "source": [
    "Sub_id_ae=pd.DataFrame(ae_str)\n",
    "print(Sub_id_ae.head())\n",
    "Sub_ID_cm=pd.DataFrame(cm_str1)\n",
    "print(Sub_ID_cm.head())"
   ]
  },
  {
   "cell_type": "code",
   "execution_count": 10,
   "id": "c8f92b0e",
   "metadata": {},
   "outputs": [
    {
     "data": {
      "text/plain": [
       "0         76809\n",
       "1        105792\n",
       "2        117691\n",
       "3        120205\n",
       "4        130301\n",
       "         ...   \n",
       "723    17954820\n",
       "724    17956076\n",
       "725    18042999\n",
       "726    18282353\n",
       "727    18291148\n",
       "Name: data, Length: 728, dtype: int64"
      ]
     },
     "execution_count": 10,
     "metadata": {},
     "output_type": "execute_result"
    }
   ],
   "source": [
    "Sub_id_ae['data']"
   ]
  },
  {
   "cell_type": "code",
   "execution_count": 43,
   "id": "fe69c95c",
   "metadata": {},
   "outputs": [],
   "source": [
    "c=requests.get('https://pharmanlp-177020.uc.r.appspot.com/api/1/StudyHack/ae/subject/105792/list', verify=False)\n",
    "d=requests.get('https://pharmanlp-177020.uc.r.appspot.com/api/1/StudyHack/cm/subject/105792/list',verify=False)"
   ]
  },
  {
   "cell_type": "code",
   "execution_count": 44,
   "id": "5267481f",
   "metadata": {},
   "outputs": [],
   "source": [
    "output3=json.loads(c.text)\n",
    "output4=json.loads(d.text)"
   ]
  },
  {
   "cell_type": "code",
   "execution_count": null,
   "id": "64ac3d41",
   "metadata": {},
   "outputs": [],
   "source": [
    "appended_data = []\n",
    "for i in Sub_id_ae['data']:\n",
    "    c=requests.get(f'https://pharmanlp-177020.uc.r.appspot.com/api/1/StudyHack/ae/subject/{i}/list', verify=False)\n",
    "    output3=json.loads(c.text)\n",
    "    Task1_ae=pd.DataFrame(output3)\n",
    "    for j in Task1_ae['data']:\n",
    "        appended_data.append(j)"
   ]
  },
  {
   "cell_type": "code",
   "execution_count": null,
   "id": "75ed099c",
   "metadata": {},
   "outputs": [],
   "source": [
    "Test1_ae=pd.DataFrame(appended_data)\n",
    "Test1_ae"
   ]
  },
  {
   "cell_type": "code",
   "execution_count": 15,
   "id": "71e8e69b",
   "metadata": {},
   "outputs": [
    {
     "data": {
      "text/plain": [
       "Index(['studyid', 'siteid', 'subjid', 'subjectid', 'visitindex', 'visitnam',\n",
       "       'formname', 'formid', 'formidx', 'formindex', 'dov', 'aemeyn',\n",
       "       'aemeyn_c', 'aecat', 'aecat_c', 'aeterm', 'aemedrg', 'aeinpkg',\n",
       "       'aestdat', 'aestdat_dts', 'aestdat_nd', 'aestdme', 'aestdme_c',\n",
       "       'aeendat', 'aeendat_dts', 'aeendat_nd', 'aedis', 'aedis_c', 'aemerae',\n",
       "       'aemerae_c', 'aespid', 'aendgiv', 'aendgiv_c', 'aecmgiv', 'aecmgiv_c',\n",
       "       'aecmgiv_nd', 'aerefid', 'compterm', 'aellt', 'aedecod', 'aehlt',\n",
       "       'aehlgt', 'aesoc', 'aemedrg_c', 'aespid_1', 'aeyn', 'aeyn_c',\n",
       "       'aeongo_c', 'aeongo', 'aetoxgr_c', 'aetoxgr', 'aeser_c', 'aeser',\n",
       "       'aerme_c', 'aerme', 'aetrt1', 'aetrt3_c', 'aerel1_c', 'aerel1',\n",
       "       'aerel1_nd', 'aeacn1_c', 'aeacn1', 'aeacn1_1_c', 'aeacn1_1', 'aetrt2',\n",
       "       'aetrt2_nd', 'aetrt2_c', 'aerel2_c', 'aerel2', 'aerel2_nd', 'aeacn2_c',\n",
       "       'aeacn2', 'aeacn2_1_c', 'aeacn2_1', 'aetrt3', 'aetrt1_c', 'aerel3_c',\n",
       "       'aerel3', 'aeacn3_c', 'aeacn3', 'aeacn3_1_c', 'aeacn3_1', 'aerelnst_c',\n",
       "       'aerelnst', 'aerelnst_nd', 'aerelt', 'aeout_c', 'aeout'],\n",
       "      dtype='object')"
      ]
     },
     "execution_count": 15,
     "metadata": {},
     "output_type": "execute_result"
    }
   ],
   "source": [
    "Test1_ae.columns"
   ]
  },
  {
   "cell_type": "code",
   "execution_count": null,
   "id": "39b9189c",
   "metadata": {},
   "outputs": [],
   "source": [
    "appended_data1 = []\n",
    "for i in Sub_ID_cm['data']:\n",
    "    d=requests.get(f'https://pharmanlp-177020.uc.r.appspot.com/api/1/StudyHack/cm/subject/{i}/list', verify=False)\n",
    "    output4=json.loads(d.text)\n",
    "    Task1_cm=pd.DataFrame(output4)\n",
    "    for j in Task1_cm['data']:\n",
    "        appended_data1.append(j)"
   ]
  },
  {
   "cell_type": "code",
   "execution_count": null,
   "id": "be921692",
   "metadata": {},
   "outputs": [],
   "source": [
    "Test2_cm=pd.DataFrame(appended_data1)\n",
    "Test2_cm\n"
   ]
  },
  {
   "cell_type": "code",
   "execution_count": 18,
   "id": "d0e0b822",
   "metadata": {},
   "outputs": [
    {
     "data": {
      "text/plain": [
       "         41\n",
       "16        7\n",
       "18        5\n",
       "7         2\n",
       "2         2\n",
       "52        2\n",
       "4         2\n",
       "20        2\n",
       "14        2\n",
       "51,52     1\n",
       "6         1\n",
       "Name: cmaeno, dtype: int64"
      ]
     },
     "execution_count": 18,
     "metadata": {},
     "output_type": "execute_result"
    }
   ],
   "source": [
    "Test2_cm.cmaeno.value_counts()"
   ]
  },
  {
   "cell_type": "code",
   "execution_count": 35,
   "id": "1f8c968e",
   "metadata": {},
   "outputs": [],
   "source": [
    "cm_table['cmaeno'].replace('','0',inplace=True)"
   ]
  },
  {
   "cell_type": "code",
   "execution_count": 36,
   "id": "2a3ccc8d",
   "metadata": {
    "scrolled": true
   },
   "outputs": [
    {
     "ename": "ValueError",
     "evalue": "invalid literal for int() with base 10: '51,52'",
     "output_type": "error",
     "traceback": [
      "\u001b[1;31m---------------------------------------------------------------------------\u001b[0m",
      "\u001b[1;31mValueError\u001b[0m                                Traceback (most recent call last)",
      "Input \u001b[1;32mIn [36]\u001b[0m, in \u001b[0;36m<cell line: 1>\u001b[1;34m()\u001b[0m\n\u001b[1;32m----> 1\u001b[0m \u001b[43mcm_table\u001b[49m\u001b[43m[\u001b[49m\u001b[38;5;124;43m'\u001b[39;49m\u001b[38;5;124;43mcmaeno\u001b[39;49m\u001b[38;5;124;43m'\u001b[39;49m\u001b[43m]\u001b[49m\u001b[38;5;241;43m.\u001b[39;49m\u001b[43mastype\u001b[49m\u001b[43m(\u001b[49m\u001b[38;5;124;43m'\u001b[39;49m\u001b[38;5;124;43mint\u001b[39;49m\u001b[38;5;124;43m'\u001b[39;49m\u001b[43m)\u001b[49m\n",
      "File \u001b[1;32m~\\anaconda3\\envs\\notebook\\lib\\site-packages\\pandas\\core\\generic.py:5920\u001b[0m, in \u001b[0;36mNDFrame.astype\u001b[1;34m(self, dtype, copy, errors)\u001b[0m\n\u001b[0;32m   5913\u001b[0m     results \u001b[38;5;241m=\u001b[39m [\n\u001b[0;32m   5914\u001b[0m         \u001b[38;5;28mself\u001b[39m\u001b[38;5;241m.\u001b[39miloc[:, i]\u001b[38;5;241m.\u001b[39mastype(dtype, copy\u001b[38;5;241m=\u001b[39mcopy)\n\u001b[0;32m   5915\u001b[0m         \u001b[38;5;28;01mfor\u001b[39;00m i \u001b[38;5;129;01min\u001b[39;00m \u001b[38;5;28mrange\u001b[39m(\u001b[38;5;28mlen\u001b[39m(\u001b[38;5;28mself\u001b[39m\u001b[38;5;241m.\u001b[39mcolumns))\n\u001b[0;32m   5916\u001b[0m     ]\n\u001b[0;32m   5918\u001b[0m \u001b[38;5;28;01melse\u001b[39;00m:\n\u001b[0;32m   5919\u001b[0m     \u001b[38;5;66;03m# else, only a single dtype is given\u001b[39;00m\n\u001b[1;32m-> 5920\u001b[0m     new_data \u001b[38;5;241m=\u001b[39m \u001b[38;5;28;43mself\u001b[39;49m\u001b[38;5;241;43m.\u001b[39;49m\u001b[43m_mgr\u001b[49m\u001b[38;5;241;43m.\u001b[39;49m\u001b[43mastype\u001b[49m\u001b[43m(\u001b[49m\u001b[43mdtype\u001b[49m\u001b[38;5;241;43m=\u001b[39;49m\u001b[43mdtype\u001b[49m\u001b[43m,\u001b[49m\u001b[43m \u001b[49m\u001b[43mcopy\u001b[49m\u001b[38;5;241;43m=\u001b[39;49m\u001b[43mcopy\u001b[49m\u001b[43m,\u001b[49m\u001b[43m \u001b[49m\u001b[43merrors\u001b[49m\u001b[38;5;241;43m=\u001b[39;49m\u001b[43merrors\u001b[49m\u001b[43m)\u001b[49m\n\u001b[0;32m   5921\u001b[0m     \u001b[38;5;28;01mreturn\u001b[39;00m \u001b[38;5;28mself\u001b[39m\u001b[38;5;241m.\u001b[39m_constructor(new_data)\u001b[38;5;241m.\u001b[39m__finalize__(\u001b[38;5;28mself\u001b[39m, method\u001b[38;5;241m=\u001b[39m\u001b[38;5;124m\"\u001b[39m\u001b[38;5;124mastype\u001b[39m\u001b[38;5;124m\"\u001b[39m)\n\u001b[0;32m   5923\u001b[0m \u001b[38;5;66;03m# GH 33113: handle empty frame or series\u001b[39;00m\n",
      "File \u001b[1;32m~\\anaconda3\\envs\\notebook\\lib\\site-packages\\pandas\\core\\internals\\managers.py:419\u001b[0m, in \u001b[0;36mBaseBlockManager.astype\u001b[1;34m(self, dtype, copy, errors)\u001b[0m\n\u001b[0;32m    418\u001b[0m \u001b[38;5;28;01mdef\u001b[39;00m \u001b[38;5;21mastype\u001b[39m(\u001b[38;5;28mself\u001b[39m: T, dtype, copy: \u001b[38;5;28mbool\u001b[39m \u001b[38;5;241m=\u001b[39m \u001b[38;5;28;01mFalse\u001b[39;00m, errors: \u001b[38;5;28mstr\u001b[39m \u001b[38;5;241m=\u001b[39m \u001b[38;5;124m\"\u001b[39m\u001b[38;5;124mraise\u001b[39m\u001b[38;5;124m\"\u001b[39m) \u001b[38;5;241m-\u001b[39m\u001b[38;5;241m>\u001b[39m T:\n\u001b[1;32m--> 419\u001b[0m     \u001b[38;5;28;01mreturn\u001b[39;00m \u001b[38;5;28;43mself\u001b[39;49m\u001b[38;5;241;43m.\u001b[39;49m\u001b[43mapply\u001b[49m\u001b[43m(\u001b[49m\u001b[38;5;124;43m\"\u001b[39;49m\u001b[38;5;124;43mastype\u001b[39;49m\u001b[38;5;124;43m\"\u001b[39;49m\u001b[43m,\u001b[49m\u001b[43m \u001b[49m\u001b[43mdtype\u001b[49m\u001b[38;5;241;43m=\u001b[39;49m\u001b[43mdtype\u001b[49m\u001b[43m,\u001b[49m\u001b[43m \u001b[49m\u001b[43mcopy\u001b[49m\u001b[38;5;241;43m=\u001b[39;49m\u001b[43mcopy\u001b[49m\u001b[43m,\u001b[49m\u001b[43m \u001b[49m\u001b[43merrors\u001b[49m\u001b[38;5;241;43m=\u001b[39;49m\u001b[43merrors\u001b[49m\u001b[43m)\u001b[49m\n",
      "File \u001b[1;32m~\\anaconda3\\envs\\notebook\\lib\\site-packages\\pandas\\core\\internals\\managers.py:304\u001b[0m, in \u001b[0;36mBaseBlockManager.apply\u001b[1;34m(self, f, align_keys, ignore_failures, **kwargs)\u001b[0m\n\u001b[0;32m    302\u001b[0m         applied \u001b[38;5;241m=\u001b[39m b\u001b[38;5;241m.\u001b[39mapply(f, \u001b[38;5;241m*\u001b[39m\u001b[38;5;241m*\u001b[39mkwargs)\n\u001b[0;32m    303\u001b[0m     \u001b[38;5;28;01melse\u001b[39;00m:\n\u001b[1;32m--> 304\u001b[0m         applied \u001b[38;5;241m=\u001b[39m \u001b[38;5;28mgetattr\u001b[39m(b, f)(\u001b[38;5;241m*\u001b[39m\u001b[38;5;241m*\u001b[39mkwargs)\n\u001b[0;32m    305\u001b[0m \u001b[38;5;28;01mexcept\u001b[39;00m (\u001b[38;5;167;01mTypeError\u001b[39;00m, \u001b[38;5;167;01mNotImplementedError\u001b[39;00m):\n\u001b[0;32m    306\u001b[0m     \u001b[38;5;28;01mif\u001b[39;00m \u001b[38;5;129;01mnot\u001b[39;00m ignore_failures:\n",
      "File \u001b[1;32m~\\anaconda3\\envs\\notebook\\lib\\site-packages\\pandas\\core\\internals\\blocks.py:580\u001b[0m, in \u001b[0;36mBlock.astype\u001b[1;34m(self, dtype, copy, errors)\u001b[0m\n\u001b[0;32m    562\u001b[0m \u001b[38;5;124;03m\"\"\"\u001b[39;00m\n\u001b[0;32m    563\u001b[0m \u001b[38;5;124;03mCoerce to the new dtype.\u001b[39;00m\n\u001b[0;32m    564\u001b[0m \n\u001b[1;32m   (...)\u001b[0m\n\u001b[0;32m    576\u001b[0m \u001b[38;5;124;03mBlock\u001b[39;00m\n\u001b[0;32m    577\u001b[0m \u001b[38;5;124;03m\"\"\"\u001b[39;00m\n\u001b[0;32m    578\u001b[0m values \u001b[38;5;241m=\u001b[39m \u001b[38;5;28mself\u001b[39m\u001b[38;5;241m.\u001b[39mvalues\n\u001b[1;32m--> 580\u001b[0m new_values \u001b[38;5;241m=\u001b[39m \u001b[43mastype_array_safe\u001b[49m\u001b[43m(\u001b[49m\u001b[43mvalues\u001b[49m\u001b[43m,\u001b[49m\u001b[43m \u001b[49m\u001b[43mdtype\u001b[49m\u001b[43m,\u001b[49m\u001b[43m \u001b[49m\u001b[43mcopy\u001b[49m\u001b[38;5;241;43m=\u001b[39;49m\u001b[43mcopy\u001b[49m\u001b[43m,\u001b[49m\u001b[43m \u001b[49m\u001b[43merrors\u001b[49m\u001b[38;5;241;43m=\u001b[39;49m\u001b[43merrors\u001b[49m\u001b[43m)\u001b[49m\n\u001b[0;32m    582\u001b[0m new_values \u001b[38;5;241m=\u001b[39m maybe_coerce_values(new_values)\n\u001b[0;32m    583\u001b[0m newb \u001b[38;5;241m=\u001b[39m \u001b[38;5;28mself\u001b[39m\u001b[38;5;241m.\u001b[39mmake_block(new_values)\n",
      "File \u001b[1;32m~\\anaconda3\\envs\\notebook\\lib\\site-packages\\pandas\\core\\dtypes\\cast.py:1292\u001b[0m, in \u001b[0;36mastype_array_safe\u001b[1;34m(values, dtype, copy, errors)\u001b[0m\n\u001b[0;32m   1289\u001b[0m     dtype \u001b[38;5;241m=\u001b[39m dtype\u001b[38;5;241m.\u001b[39mnumpy_dtype\n\u001b[0;32m   1291\u001b[0m \u001b[38;5;28;01mtry\u001b[39;00m:\n\u001b[1;32m-> 1292\u001b[0m     new_values \u001b[38;5;241m=\u001b[39m \u001b[43mastype_array\u001b[49m\u001b[43m(\u001b[49m\u001b[43mvalues\u001b[49m\u001b[43m,\u001b[49m\u001b[43m \u001b[49m\u001b[43mdtype\u001b[49m\u001b[43m,\u001b[49m\u001b[43m \u001b[49m\u001b[43mcopy\u001b[49m\u001b[38;5;241;43m=\u001b[39;49m\u001b[43mcopy\u001b[49m\u001b[43m)\u001b[49m\n\u001b[0;32m   1293\u001b[0m \u001b[38;5;28;01mexcept\u001b[39;00m (\u001b[38;5;167;01mValueError\u001b[39;00m, \u001b[38;5;167;01mTypeError\u001b[39;00m):\n\u001b[0;32m   1294\u001b[0m     \u001b[38;5;66;03m# e.g. astype_nansafe can fail on object-dtype of strings\u001b[39;00m\n\u001b[0;32m   1295\u001b[0m     \u001b[38;5;66;03m#  trying to convert to float\u001b[39;00m\n\u001b[0;32m   1296\u001b[0m     \u001b[38;5;28;01mif\u001b[39;00m errors \u001b[38;5;241m==\u001b[39m \u001b[38;5;124m\"\u001b[39m\u001b[38;5;124mignore\u001b[39m\u001b[38;5;124m\"\u001b[39m:\n",
      "File \u001b[1;32m~\\anaconda3\\envs\\notebook\\lib\\site-packages\\pandas\\core\\dtypes\\cast.py:1237\u001b[0m, in \u001b[0;36mastype_array\u001b[1;34m(values, dtype, copy)\u001b[0m\n\u001b[0;32m   1234\u001b[0m     values \u001b[38;5;241m=\u001b[39m values\u001b[38;5;241m.\u001b[39mastype(dtype, copy\u001b[38;5;241m=\u001b[39mcopy)\n\u001b[0;32m   1236\u001b[0m \u001b[38;5;28;01melse\u001b[39;00m:\n\u001b[1;32m-> 1237\u001b[0m     values \u001b[38;5;241m=\u001b[39m \u001b[43mastype_nansafe\u001b[49m\u001b[43m(\u001b[49m\u001b[43mvalues\u001b[49m\u001b[43m,\u001b[49m\u001b[43m \u001b[49m\u001b[43mdtype\u001b[49m\u001b[43m,\u001b[49m\u001b[43m \u001b[49m\u001b[43mcopy\u001b[49m\u001b[38;5;241;43m=\u001b[39;49m\u001b[43mcopy\u001b[49m\u001b[43m)\u001b[49m\n\u001b[0;32m   1239\u001b[0m \u001b[38;5;66;03m# in pandas we don't store numpy str dtypes, so convert to object\u001b[39;00m\n\u001b[0;32m   1240\u001b[0m \u001b[38;5;28;01mif\u001b[39;00m \u001b[38;5;28misinstance\u001b[39m(dtype, np\u001b[38;5;241m.\u001b[39mdtype) \u001b[38;5;129;01mand\u001b[39;00m \u001b[38;5;28missubclass\u001b[39m(values\u001b[38;5;241m.\u001b[39mdtype\u001b[38;5;241m.\u001b[39mtype, \u001b[38;5;28mstr\u001b[39m):\n",
      "File \u001b[1;32m~\\anaconda3\\envs\\notebook\\lib\\site-packages\\pandas\\core\\dtypes\\cast.py:1154\u001b[0m, in \u001b[0;36mastype_nansafe\u001b[1;34m(arr, dtype, copy, skipna)\u001b[0m\n\u001b[0;32m   1150\u001b[0m \u001b[38;5;28;01melif\u001b[39;00m is_object_dtype(arr\u001b[38;5;241m.\u001b[39mdtype):\n\u001b[0;32m   1151\u001b[0m \n\u001b[0;32m   1152\u001b[0m     \u001b[38;5;66;03m# work around NumPy brokenness, #1987\u001b[39;00m\n\u001b[0;32m   1153\u001b[0m     \u001b[38;5;28;01mif\u001b[39;00m np\u001b[38;5;241m.\u001b[39missubdtype(dtype\u001b[38;5;241m.\u001b[39mtype, np\u001b[38;5;241m.\u001b[39minteger):\n\u001b[1;32m-> 1154\u001b[0m         \u001b[38;5;28;01mreturn\u001b[39;00m \u001b[43mlib\u001b[49m\u001b[38;5;241;43m.\u001b[39;49m\u001b[43mastype_intsafe\u001b[49m\u001b[43m(\u001b[49m\u001b[43marr\u001b[49m\u001b[43m,\u001b[49m\u001b[43m \u001b[49m\u001b[43mdtype\u001b[49m\u001b[43m)\u001b[49m\n\u001b[0;32m   1156\u001b[0m     \u001b[38;5;66;03m# if we have a datetime/timedelta array of objects\u001b[39;00m\n\u001b[0;32m   1157\u001b[0m     \u001b[38;5;66;03m# then coerce to a proper dtype and recall astype_nansafe\u001b[39;00m\n\u001b[0;32m   1159\u001b[0m     \u001b[38;5;28;01melif\u001b[39;00m is_datetime64_dtype(dtype):\n",
      "File \u001b[1;32m~\\anaconda3\\envs\\notebook\\lib\\site-packages\\pandas\\_libs\\lib.pyx:668\u001b[0m, in \u001b[0;36mpandas._libs.lib.astype_intsafe\u001b[1;34m()\u001b[0m\n",
      "\u001b[1;31mValueError\u001b[0m: invalid literal for int() with base 10: '51,52'"
     ]
    }
   ],
   "source": [
    "cm_table['cmaeno'].astype('int')"
   ]
  },
  {
   "cell_type": "code",
   "execution_count": 41,
   "id": "53360f2e",
   "metadata": {},
   "outputs": [],
   "source": [
    "def type1_check(ae_subject_data,cm_subject_data):\n",
    "    discrepancy_list = []\n",
    "    for cm_ind in cm_subject_data.index.tolist(): \n",
    "        cm_row = cm_table.iloc[[cm_ind]]\n",
    "        for ae_ind in ae_subject_data.index.tolist():\n",
    "            ae_row = ae_table.iloc[[ae_ind]]\n",
    "            if cm_row['cmaeno'].values[0]==ae_row['aespid'].values[0] :\n",
    "                if cm_row['cmstdat_dts'].values[0]<ae_row['aestdat_dts'].values[0]:\n",
    "                    print(True)\n",
    "                    \n",
    "                    \n",
    "            #type = datetime.datetime(2018, 5, 3)\n",
    "            #type1 = datetime.datetime(2018, 6, 1) \n",
    "#                 payload={}\n",
    "\n",
    "#                 payload['formname'] = cm_row['formname']\n",
    "#                 payload['formid'] = cm_row['formid']\n",
    "#                 payload['formidx']= cm_row['formidx']\n",
    "#                 payload['type'] = cm_row['cmstdat_dts']\n",
    "#                 payload['subjectid'] = cm_row['subjid']\n",
    "#             discrepancy_list.append(payload)\n",
    "#     return discrepancy_list\n",
    "# c=type1_check(Test1_ae,Test2_cm)      \n",
    "# pd.DataFrame(c)"
   ]
  },
  {
   "cell_type": "code",
   "execution_count": 42,
   "id": "eac5317f",
   "metadata": {},
   "outputs": [],
   "source": [
    "type1_check(ae_table,cm_table)"
   ]
  },
  {
   "cell_type": "code",
   "execution_count": null,
   "id": "65d71918",
   "metadata": {},
   "outputs": [],
   "source": []
  },
  {
   "cell_type": "code",
   "execution_count": 25,
   "id": "fe064fb5",
   "metadata": {},
   "outputs": [],
   "source": [
    "# cm_table['cmstdat_dts'].astype('datetime64[ns]')\n",
    "cm_table['cmstdat_dts'] = pd.to_datetime(cm_table['cmstdat_dts'], errors='coerce')\n",
    "\n",
    "\n"
   ]
  },
  {
   "cell_type": "code",
   "execution_count": 28,
   "id": "be4d7322",
   "metadata": {},
   "outputs": [],
   "source": [
    "ae_table['aestdat_dts'] = pd.to_datetime(ae_table['aestdat_dts'], errors='coerce')"
   ]
  },
  {
   "cell_type": "code",
   "execution_count": 26,
   "id": "0b611953",
   "metadata": {},
   "outputs": [
    {
     "data": {
      "text/plain": [
       "0    2018-07-23\n",
       "1    2018-07-25\n",
       "2    2018-07-25\n",
       "3    2018-07-25\n",
       "4           NaT\n",
       "        ...    \n",
       "62   2018-07-23\n",
       "63   2018-06-14\n",
       "64   2018-06-21\n",
       "65   2018-07-07\n",
       "66   2018-07-18\n",
       "Name: cmstdat_dts, Length: 67, dtype: datetime64[ns]"
      ]
     },
     "execution_count": 26,
     "metadata": {},
     "output_type": "execute_result"
    }
   ],
   "source": [
    "cm_table['cmstdat_dts']"
   ]
  },
  {
   "cell_type": "code",
   "execution_count": 29,
   "id": "c9610f88",
   "metadata": {},
   "outputs": [
    {
     "data": {
      "text/plain": [
       "0    2018-06-25\n",
       "1    2018-06-22\n",
       "2    2018-06-25\n",
       "3    2018-05-20\n",
       "4    2018-06-25\n",
       "        ...    \n",
       "61   2018-06-23\n",
       "62   2018-06-15\n",
       "63   2018-06-18\n",
       "64   2018-06-19\n",
       "65   2018-06-20\n",
       "Name: aestdat_dts, Length: 66, dtype: datetime64[ns]"
      ]
     },
     "execution_count": 29,
     "metadata": {},
     "output_type": "execute_result"
    }
   ],
   "source": [
    "ae_table['aestdat_dts']"
   ]
  },
  {
   "cell_type": "code",
   "execution_count": 31,
   "id": "78d3d150",
   "metadata": {},
   "outputs": [
    {
     "data": {
      "text/plain": [
       "Index(['studyid', 'siteid', 'subjid', 'subjectid', 'visitid', 'visitidx',\n",
       "       'visitnam', 'formname', 'formid', 'formidx', 'formindex', 'cmyn',\n",
       "       'cmyn_c', 'cmcat_c', 'cmcat_nd', 'cmscat', 'cmscat_c', 'cmpresp',\n",
       "       'cmpresp_c', 'cmpresp_nd', 'cmtrt', 'cmtrt_nd', 'cmrgm', 'cmrgm_nd',\n",
       "       'cmindc', 'cmaeno', 'cmaer', 'cmaer_c', 'cmdostot', 'cmdostot_nd',\n",
       "       'cmdosu', 'cmdosu_c', 'cmdosu_nd', 'cmroute', 'cmroute_c', 'cmprior',\n",
       "       'cmprior_c', 'cmstdat', 'cmstdat_dtr', 'cmstdat_dts', 'cmendat',\n",
       "       'cmendat_dtr', 'cmendat_dts', 'cmongo', 'cmongo_c', 'cmongo_nd',\n",
       "       'compterm', 'cmdecod', 'siteno'],\n",
       "      dtype='object')"
      ]
     },
     "execution_count": 31,
     "metadata": {},
     "output_type": "execute_result"
    }
   ],
   "source": [
    "Test2_cm.columns"
   ]
  },
  {
   "cell_type": "code",
   "execution_count": null,
   "id": "1e4a4200",
   "metadata": {},
   "outputs": [],
   "source": []
  }
 ],
 "metadata": {
  "kernelspec": {
   "display_name": "Python 3 (ipykernel)",
   "language": "python",
   "name": "python3"
  },
  "language_info": {
   "codemirror_mode": {
    "name": "ipython",
    "version": 3
   },
   "file_extension": ".py",
   "mimetype": "text/x-python",
   "name": "python",
   "nbconvert_exporter": "python",
   "pygments_lexer": "ipython3",
   "version": "3.9.7"
  }
 },
 "nbformat": 4,
 "nbformat_minor": 5
}
