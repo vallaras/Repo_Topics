{
 "cells": [
  {
   "cell_type": "code",
   "execution_count": null,
   "id": "9ef5dfe2",
   "metadata": {},
   "outputs": [],
   "source": [
    "d={1:{\"name\":\"frathunan\",\"dept\":\"cse\",\"year\":4},\n",
    "  2:{\"name\":\"gopi\",\"dept\":\"b.com\",\"year\":3},\n",
    "  3:{\"name\":\"santhosh\",\"dept\":\"EEE\",\"year\":4}}\n",
    "a=list(d.keys())\n",
    "b=int(input(\"Enter the student id:\"))\n",
    "x=input(\"Enter the key :\")\n",
    "y=input(\"Enter the value:\")\n",
    "o={x:y}\n",
    "d[b].update(o)\n",
    "print(d)"
   ]
  },
  {
   "cell_type": "code",
   "execution_count": 1,
   "id": "eadd830e",
   "metadata": {},
   "outputs": [],
   "source": [
    "d={1:{\"name\":\"frathunan\",\"dept\":\"cse\",\"year\":4},\n",
    "  2:{\"name\":\"gopi\",\"dept\":\"b.com\",\"year\":3},\n",
    "  3:{\"name\":\"santhosh\",\"dept\":\"EEE\",\"year\":4}}\n",
    "a=list(d)"
   ]
  },
  {
   "cell_type": "code",
   "execution_count": 2,
   "id": "13b583a0",
   "metadata": {},
   "outputs": [
    {
     "data": {
      "text/plain": [
       "[1, 2, 3]"
      ]
     },
     "execution_count": 2,
     "metadata": {},
     "output_type": "execute_result"
    }
   ],
   "source": [
    "a"
   ]
  },
  {
   "cell_type": "code",
   "execution_count": 3,
   "id": "c1fbab76",
   "metadata": {},
   "outputs": [
    {
     "data": {
      "text/plain": [
       "{'name': 'frathunan', 'dept': 'cse', 'year': 4}"
      ]
     },
     "execution_count": 3,
     "metadata": {},
     "output_type": "execute_result"
    }
   ],
   "source": [
    "d[1]"
   ]
  },
  {
   "cell_type": "code",
   "execution_count": 4,
   "id": "e3dbe898",
   "metadata": {},
   "outputs": [
    {
     "data": {
      "text/plain": [
       "{'name': 'gopi', 'dept': 'b.com', 'year': 3}"
      ]
     },
     "execution_count": 4,
     "metadata": {},
     "output_type": "execute_result"
    }
   ],
   "source": [
    "d[2]"
   ]
  },
  {
   "cell_type": "code",
   "execution_count": 18,
   "id": "09f46870",
   "metadata": {},
   "outputs": [
    {
     "name": "stdout",
     "output_type": "stream",
     "text": [
      "geeks\n",
      "geeks\n",
      "geeks\n"
     ]
    }
   ],
   "source": [
    "l = [\"geeks\", \"for\", \"geeks\"]\n",
    "for i in range(len(l)):\n",
    "    print(l[0])"
   ]
  },
  {
   "cell_type": "code",
   "execution_count": 23,
   "id": "1dd816a8",
   "metadata": {},
   "outputs": [
    {
     "name": "stdout",
     "output_type": "stream",
     "text": [
      "1*\n",
      "2*2*\n",
      "3*3*3*\n",
      "4*4*4*4*\n",
      "5*5*5*5*5*\n",
      "6*6*6*6*6*6*\n",
      "7*7*7*7*7*7*7*\n",
      "8*8*8*8*8*8*8*8*\n",
      "9*9*9*9*9*9*9*9*9*\n",
      "10*10*10*10*10*10*10*10*10*10*\n"
     ]
    }
   ],
   "source": [
    "for i in range(1,11):\n",
    "    for j in range(i):\n",
    "        print(i,end=\"*\")\n",
    "    print()\n",
    "        "
   ]
  },
  {
   "cell_type": "code",
   "execution_count": 29,
   "id": "f6a02a48",
   "metadata": {},
   "outputs": [
    {
     "name": "stdout",
     "output_type": "stream",
     "text": [
      "Current Letter : g\n"
     ]
    }
   ],
   "source": [
    "for l in 'geeksforgeeks':\n",
    "    if l == 'g' or l == 's':\n",
    "        break\n",
    "\n",
    "print('Current Letter :', l)"
   ]
  },
  {
   "cell_type": "code",
   "execution_count": 30,
   "id": "50bd63cc",
   "metadata": {},
   "outputs": [
    {
     "name": "stdout",
     "output_type": "stream",
     "text": [
      "List Iteration\n",
      "geeks\n",
      "for\n",
      "geeks\n"
     ]
    }
   ],
   "source": [
    "# Iterating over a list\n",
    "print(\"List Iteration\")\n",
    "l = [\"geeks\", \"for\", \"geeks\"]\n",
    "for i in l:\n",
    "    print(i)"
   ]
  },
  {
   "cell_type": "code",
   "execution_count": 31,
   "id": "9badf548",
   "metadata": {},
   "outputs": [
    {
     "name": "stdout",
     "output_type": "stream",
     "text": [
      "\n",
      "Tuple Iteration\n",
      "geeks\n",
      "for\n",
      "geeks\n"
     ]
    }
   ],
   "source": [
    "# Iterating over a tuple (immutable)\n",
    "print(\"\\nTuple Iteration\")\n",
    "t = (\"geeks\", \"for\", \"geeks\")\n",
    "for i in t:\n",
    "    print(i)\n"
   ]
  },
  {
   "cell_type": "code",
   "execution_count": 32,
   "id": "461e29bf",
   "metadata": {},
   "outputs": [
    {
     "name": "stdout",
     "output_type": "stream",
     "text": [
      "G\n",
      "e\n",
      "e\n",
      "k\n",
      "s\n"
     ]
    }
   ],
   "source": [
    "s = \"Geeks\"\n",
    "for i in s :\n",
    "    print(i)\n"
   ]
  },
  {
   "cell_type": "code",
   "execution_count": 33,
   "id": "9f0b0a9f",
   "metadata": {},
   "outputs": [
    {
     "name": "stdout",
     "output_type": "stream",
     "text": [
      "xyz 123\n",
      "abc 345\n"
     ]
    }
   ],
   "source": [
    "d = dict()\n",
    "d['xyz'] = 123\n",
    "d['abc'] = 345\n",
    "for i in d :\n",
    "    print(\"%s %d\" %(i, d[i]))"
   ]
  },
  {
   "cell_type": "code",
   "execution_count": null,
   "id": "820ed135",
   "metadata": {},
   "outputs": [],
   "source": []
  }
 ],
 "metadata": {
  "kernelspec": {
   "display_name": "Python 3 (ipykernel)",
   "language": "python",
   "name": "python3"
  },
  "language_info": {
   "codemirror_mode": {
    "name": "ipython",
    "version": 3
   },
   "file_extension": ".py",
   "mimetype": "text/x-python",
   "name": "python",
   "nbconvert_exporter": "python",
   "pygments_lexer": "ipython3",
   "version": "3.9.7"
  }
 },
 "nbformat": 4,
 "nbformat_minor": 5
}
