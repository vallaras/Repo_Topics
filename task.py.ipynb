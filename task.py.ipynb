{
 "cells": [
  {
   "cell_type": "code",
   "execution_count": 4,
   "id": "6ad9ab48",
   "metadata": {},
   "outputs": [],
   "source": [
    "import requests\n",
    "import json\n",
    "from datetime import date, timedelta, datetime\n",
    "from dateutil import parser\n",
    "import sys\n",
    "import pandas as pd"
   ]
  },
  {
   "cell_type": "markdown",
   "id": "6391138e",
   "metadata": {},
   "source": [
    "Initialize Study Id, Domain Id, base_url in the cell below"
   ]
  },
  {
   "cell_type": "code",
   "execution_count": 3,
   "id": "ea7df52f",
   "metadata": {},
   "outputs": [],
   "source": [
    "study_id = 'pass the study_id here'\n",
    "ae_domain_id ='pass ae as domain here'\n",
    "cm_domain_id = 'pas cm as domain here'\n",
    "base_url = 'https://pyhack-dot-pharmanlp-177020.uc.r.appspot.com/api/1/'"
   ]
  },
  {
   "cell_type": "code",
   "execution_count": 5,
   "id": "00c3d9b4",
   "metadata": {},
   "outputs": [
    {
     "name": "stderr",
     "output_type": "stream",
     "text": [
      "C:\\Users\\ELCOT\\anaconda3\\lib\\site-packages\\urllib3\\connectionpool.py:1013: InsecureRequestWarning: Unverified HTTPS request is being made to host 'pharmanlp-177020.uc.r.appspot.com'. Adding certificate verification is strongly advised. See: https://urllib3.readthedocs.io/en/1.26.x/advanced-usage.html#ssl-warnings\n",
      "  warnings.warn(\n",
      "C:\\Users\\ELCOT\\anaconda3\\lib\\site-packages\\urllib3\\connectionpool.py:1013: InsecureRequestWarning: Unverified HTTPS request is being made to host 'pharmanlp-177020.uc.r.appspot.com'. Adding certificate verification is strongly advised. See: https://urllib3.readthedocs.io/en/1.26.x/advanced-usage.html#ssl-warnings\n",
      "  warnings.warn(\n"
     ]
    }
   ],
   "source": [
    "a=requests.get('https://pharmanlp-177020.uc.r.appspot.com/api/1/StudyHack/ae/subject/list',verify=False)\n",
    "b=requests.get('https://pharmanlp-177020.uc.r.appspot.com/api/1/StudyHack/cm/subject/list',verify=False)\n"
   ]
  },
  {
   "cell_type": "code",
   "execution_count": 7,
   "id": "4dc5024c",
   "metadata": {},
   "outputs": [
    {
     "name": "stdout",
     "output_type": "stream",
     "text": [
      "{\"status\":\"success\",\"data\":[76809,105792,117691,120205,130301,132645,138700,156724,166621,168918,205861,226107,226615,231407,265932,276449,299197,303307,303317,305637,330825,381416,386442,386909,386924,388081,399669,409256,409273,412604,468784,475581,478578,480428,500230,504075,511238,542409,570992,594397,601829,603656,604835,609627,621769,643495,643519,672534,678844,678855,686951,688628,743834,750185,763795,770963,799218,833393,844909,851940,868580,868623,923113,930141,954328,959501,970072,970104,978125,987201,987462,997179,1002549,1026894,1026905,1027241,1038656,1048183,1049071,1068949,1092393,1100385,1107507,1111479,1126734,1130157,1130189,1131738,1135512,1142200,1146813,1168766,1168790,1230976,1253180,1260845,1260871,1268747,1350622,1350640,1370986,1384439,1387198,1389996,1393002,1436157,1453728,1469249,1494086,1501322,1505669,1512798,1513959,1517961,1525878,1539183,1539742,1543686,1544413,1564080,1644472,1651187,1651866,1661576,1690961,1777360,1794523,1797795,1829887,1838172,1839890,1866847,1892807,1898906,1953421,1962405,1984883,2021912,2024570,2025994,2047144,2053878,2088505,2109668,2123592,2148506,2161708,2170855,2174090,2180521,2182848,2185167,2187493,2188772,2198061,2218557,2237297,2241217,2241229,2241239,2296410,2317067,2318310,2322577,2355687,2359314,2359361,2367602,2367625,2431068,2465129,2473256,2490256,2519929,2519940,2540569,2554767,2555286,2559014,2563109,2580311,2657396,2660588,2670424,2684809,2693007,2714647,2726076,2748280,2753775,2765122,2809437,2812560,2812826,2847575,2851281,2940850,2944438,2951814,2955052,2959626,2970274,2978591,2981546,2987492,3010754,3015141,3015151,3015161,3017640,3017874,3039659,3044738,3046700,3052347,3060620,3063697,3063985,3072378,3072840,3081733,3096581,3100861,3105380,3143614,3181356,3190197,3199995,3232513,3252946,3263209,3263219,3298134,3306859,3349213,3381101,3406583,3436992,3465266,3479588,3485978,3506162,3506839,3509389,3529446,3537823,3547846,3766862,3773251,3781107,3784335,3821322,3834934,3884023,3885838,3897392,3912155,3946467,3958754,3993977,3997546,3998197,3998678,4023179,4048504,4066842,4104774,4110528,4123883,4132891,4143597,4168839,4186629,4220257,4227438,4286167,4380835,4400871,4407044,4408633,4415082,4415101,4421614,4430147,4434638,4444884,4455515,4458636,4461752,4489476,4531025,4532319,4549501,4560425,4583883,4588707,4588718,4603349,4610861,4677749,4713551,4723008,4745381,4776015,4803658,4813683,4819452,4848538,4865034,4915797,4928178,4974083,5030187,5035582,5040097,5064159,5066619,5070893,5115141,5115151,5115161,5115482,5138505,5160563,5167039,5198473,5204610,5221267,5235170,5235693,5238560,5254820,5276455,5314241,5370816,5377559,5380687,5420283,5421375,5421396,5429245,5467185,5467709,5468664,5475957,5476054,5476158,5479009,5490803,5498992,5535562,5564652,5576049,5615448,5644933,5675994,5677337,5686351,5689631,5698587,5698742,5705902,5721294,5785501,5816088,5857286,5896770,5899597,5913112,5920663,5955146,5957784,6016253,6019726,6023794,6024141,6033167,6068090,6095392,6097542,6098084,6143788,6143798,6145271,6243785,6266851,6391980,6392109,6396130,6396168,6401945,6429906,6430774,6444680,6449797,6450866,6453658,6454828,6474485,6490789,6495170,6501591,6520384,6564409,6568338,6568358,6573914,6575974,6576710,6580355,6614214,6625497,6693149,6694700,6699626,6703071,6747997,6773131,6809352,6849849,6972006,7128241,7171796,7177044,7212519,7242035,7242318,7258884,7302705,7316713,7385967,7477846,7553572,7694279,7695850,7736656,7851232,7890488,7903241,7971783,7977572,7978108,8051911,8051964,8135429,8139916,8256610,8303637,8370657,8396690,8461113,8463070,8463149,8463203,8529754,8550387,8608280,8642513,8691667,8723523,8737486,8737762,8741766,8804645,8846130,8859749,8859816,8863003,8903544,8950105,8950264,8958477,8960524,8966797,8978252,8990297,8993102,8993392,8993561,8993915,8993999,9139074,9150235,9152188,9330300,9364924,9364958,9369459,9394543,9473486,9530174,9537942,9588102,9593119,9745985,9756715,9756725,9756735,9756745,9759675,9780887,9805139,9817723,9827206,9830085,9844427,9899227,9899237,9899258,9904847,9975024,9983011,10002298,10010306,10413893,10433285,10433544,10433585,10435776,10438699,10438772,10519062,10529977,10530353,10531900,10556951,10625070,10695067,10836081,10873614,10935673,10939664,10946317,10948833,10953290,11055078,11121218,11147730,11200621,11224266,11233277,11233375,11234918,11308110,11331987,11332935,11364283,11365318,11372542,11379577,11393202,11416574,11447748,11461025,11479998,11492220,11502205,11502306,11502360,11516144,11534564,11592353,11596342,11597989,11653981,11656412,11661910,11662989,11670916,11709643,11737362,11787467,11827760,11870856,11957950,11971120,11976435,12013064,12067658,12141423,12183008,12202993,12239342,12351498,12364052,12364688,12365306,12376957,12412944,12449252,12629404,12672577,12726452,12784380,12837864,12881006,12910693,12971618,12977116,13005735,13017079,13028937,13041054,13066893,13118738,13125473,13151746,13167533,13167833,13168420,13219906,13224529,13283077,13298643,13324075,13346940,13387193,13387208,13405157,13437611,13443344,13471161,13471171,13481847,13482903,13495592,13515646,13523449,13556366,13591226,13591517,13592406,13622644,13629484,13720406,13735653,13738350,13744168,13858197,13951757,14004540,14068246,14076167,14076184,14076390,14084112,14084504,14089473,14091108,14123571,14176034,14221365,14242234,14244055,14275688,14351219,14377038,14461609,14512310,14549833,14551453,14619552,14641263,14641478,14641873,14642001,14696618,14725496,14777851,14820684,14858708,14920011,15009603,15093244,15132231,15204895,15265432,15265969,15291533,15292128,15325886,15362020,15401440,15444471,15459897,15474723,15478376,15500094,15579345,15611540,15611715,15612351,15624319,15722913,15783875,15855974,15931346,16060935,16145257,16160205,16209913,16287031,16329948,16357906,16479240,16486887,16500203,16510780,16695567,16747691,16752847,16968445,17165682,17263384,17360492,17361294,17418518,17739603,17740306,17837109,17866554,17866564,17883562,17954820,17956076,18042999,18282353,18291148],\"request_id\":\"6c59f3d0-54a0-4e3a-a30a-4c2f92457627\"}\n",
      "\n"
     ]
    }
   ],
   "source": [
    "print(a.text)"
   ]
  },
  {
   "cell_type": "code",
   "execution_count": 8,
   "id": "6b03814b",
   "metadata": {},
   "outputs": [],
   "source": [
    "output1=json.loads(a.text)"
   ]
  },
  {
   "cell_type": "code",
   "execution_count": 9,
   "id": "0b2e4d6d",
   "metadata": {},
   "outputs": [
    {
     "name": "stdout",
     "output_type": "stream",
     "text": [
      "{'status': 'success', 'data': [76809, 105792, 117691, 120205, 130301, 132645, 138700, 156724, 166621, 168918, 205861, 226107, 226615, 231407, 265932, 276449, 299197, 303307, 303317, 305637, 330825, 381416, 386442, 386909, 386924, 388081, 399669, 409256, 409273, 412604, 468784, 475581, 478578, 480428, 500230, 504075, 511238, 542409, 570992, 594397, 601829, 603656, 604835, 609627, 621769, 643495, 643519, 672534, 678844, 678855, 686951, 688628, 743834, 750185, 763795, 770963, 799218, 833393, 844909, 851940, 868580, 868623, 923113, 930141, 954328, 959501, 970072, 970104, 978125, 987201, 987462, 997179, 1002549, 1026894, 1026905, 1027241, 1038656, 1048183, 1049071, 1068949, 1092393, 1100385, 1107507, 1111479, 1126734, 1130157, 1130189, 1131738, 1135512, 1142200, 1146813, 1168766, 1168790, 1230976, 1253180, 1260845, 1260871, 1268747, 1350622, 1350640, 1370986, 1384439, 1387198, 1389996, 1393002, 1436157, 1453728, 1469249, 1494086, 1501322, 1505669, 1512798, 1513959, 1517961, 1525878, 1539183, 1539742, 1543686, 1544413, 1564080, 1644472, 1651187, 1651866, 1661576, 1690961, 1777360, 1794523, 1797795, 1829887, 1838172, 1839890, 1866847, 1892807, 1898906, 1953421, 1962405, 1984883, 2021912, 2024570, 2025994, 2047144, 2053878, 2088505, 2109668, 2123592, 2148506, 2161708, 2170855, 2174090, 2180521, 2182848, 2185167, 2187493, 2188772, 2198061, 2218557, 2237297, 2241217, 2241229, 2241239, 2296410, 2317067, 2318310, 2322577, 2355687, 2359314, 2359361, 2367602, 2367625, 2431068, 2465129, 2473256, 2490256, 2519929, 2519940, 2540569, 2554767, 2555286, 2559014, 2563109, 2580311, 2657396, 2660588, 2670424, 2684809, 2693007, 2714647, 2726076, 2748280, 2753775, 2765122, 2809437, 2812560, 2812826, 2847575, 2851281, 2940850, 2944438, 2951814, 2955052, 2959626, 2970274, 2978591, 2981546, 2987492, 3010754, 3015141, 3015151, 3015161, 3017640, 3017874, 3039659, 3044738, 3046700, 3052347, 3060620, 3063697, 3063985, 3072378, 3072840, 3081733, 3096581, 3100861, 3105380, 3143614, 3181356, 3190197, 3199995, 3232513, 3252946, 3263209, 3263219, 3298134, 3306859, 3349213, 3381101, 3406583, 3436992, 3465266, 3479588, 3485978, 3506162, 3506839, 3509389, 3529446, 3537823, 3547846, 3766862, 3773251, 3781107, 3784335, 3821322, 3834934, 3884023, 3885838, 3897392, 3912155, 3946467, 3958754, 3993977, 3997546, 3998197, 3998678, 4023179, 4048504, 4066842, 4104774, 4110528, 4123883, 4132891, 4143597, 4168839, 4186629, 4220257, 4227438, 4286167, 4380835, 4400871, 4407044, 4408633, 4415082, 4415101, 4421614, 4430147, 4434638, 4444884, 4455515, 4458636, 4461752, 4489476, 4531025, 4532319, 4549501, 4560425, 4583883, 4588707, 4588718, 4603349, 4610861, 4677749, 4713551, 4723008, 4745381, 4776015, 4803658, 4813683, 4819452, 4848538, 4865034, 4915797, 4928178, 4974083, 5030187, 5035582, 5040097, 5064159, 5066619, 5070893, 5115141, 5115151, 5115161, 5115482, 5138505, 5160563, 5167039, 5198473, 5204610, 5221267, 5235170, 5235693, 5238560, 5254820, 5276455, 5314241, 5370816, 5377559, 5380687, 5420283, 5421375, 5421396, 5429245, 5467185, 5467709, 5468664, 5475957, 5476054, 5476158, 5479009, 5490803, 5498992, 5535562, 5564652, 5576049, 5615448, 5644933, 5675994, 5677337, 5686351, 5689631, 5698587, 5698742, 5705902, 5721294, 5785501, 5816088, 5857286, 5896770, 5899597, 5913112, 5920663, 5955146, 5957784, 6016253, 6019726, 6023794, 6024141, 6033167, 6068090, 6095392, 6097542, 6098084, 6143788, 6143798, 6145271, 6243785, 6266851, 6391980, 6392109, 6396130, 6396168, 6401945, 6429906, 6430774, 6444680, 6449797, 6450866, 6453658, 6454828, 6474485, 6490789, 6495170, 6501591, 6520384, 6564409, 6568338, 6568358, 6573914, 6575974, 6576710, 6580355, 6614214, 6625497, 6693149, 6694700, 6699626, 6703071, 6747997, 6773131, 6809352, 6849849, 6972006, 7128241, 7171796, 7177044, 7212519, 7242035, 7242318, 7258884, 7302705, 7316713, 7385967, 7477846, 7553572, 7694279, 7695850, 7736656, 7851232, 7890488, 7903241, 7971783, 7977572, 7978108, 8051911, 8051964, 8135429, 8139916, 8256610, 8303637, 8370657, 8396690, 8461113, 8463070, 8463149, 8463203, 8529754, 8550387, 8608280, 8642513, 8691667, 8723523, 8737486, 8737762, 8741766, 8804645, 8846130, 8859749, 8859816, 8863003, 8903544, 8950105, 8950264, 8958477, 8960524, 8966797, 8978252, 8990297, 8993102, 8993392, 8993561, 8993915, 8993999, 9139074, 9150235, 9152188, 9330300, 9364924, 9364958, 9369459, 9394543, 9473486, 9530174, 9537942, 9588102, 9593119, 9745985, 9756715, 9756725, 9756735, 9756745, 9759675, 9780887, 9805139, 9817723, 9827206, 9830085, 9844427, 9899227, 9899237, 9899258, 9904847, 9975024, 9983011, 10002298, 10010306, 10413893, 10433285, 10433544, 10433585, 10435776, 10438699, 10438772, 10519062, 10529977, 10530353, 10531900, 10556951, 10625070, 10695067, 10836081, 10873614, 10935673, 10939664, 10946317, 10948833, 10953290, 11055078, 11121218, 11147730, 11200621, 11224266, 11233277, 11233375, 11234918, 11308110, 11331987, 11332935, 11364283, 11365318, 11372542, 11379577, 11393202, 11416574, 11447748, 11461025, 11479998, 11492220, 11502205, 11502306, 11502360, 11516144, 11534564, 11592353, 11596342, 11597989, 11653981, 11656412, 11661910, 11662989, 11670916, 11709643, 11737362, 11787467, 11827760, 11870856, 11957950, 11971120, 11976435, 12013064, 12067658, 12141423, 12183008, 12202993, 12239342, 12351498, 12364052, 12364688, 12365306, 12376957, 12412944, 12449252, 12629404, 12672577, 12726452, 12784380, 12837864, 12881006, 12910693, 12971618, 12977116, 13005735, 13017079, 13028937, 13041054, 13066893, 13118738, 13125473, 13151746, 13167533, 13167833, 13168420, 13219906, 13224529, 13283077, 13298643, 13324075, 13346940, 13387193, 13387208, 13405157, 13437611, 13443344, 13471161, 13471171, 13481847, 13482903, 13495592, 13515646, 13523449, 13556366, 13591226, 13591517, 13592406, 13622644, 13629484, 13720406, 13735653, 13738350, 13744168, 13858197, 13951757, 14004540, 14068246, 14076167, 14076184, 14076390, 14084112, 14084504, 14089473, 14091108, 14123571, 14176034, 14221365, 14242234, 14244055, 14275688, 14351219, 14377038, 14461609, 14512310, 14549833, 14551453, 14619552, 14641263, 14641478, 14641873, 14642001, 14696618, 14725496, 14777851, 14820684, 14858708, 14920011, 15009603, 15093244, 15132231, 15204895, 15265432, 15265969, 15291533, 15292128, 15325886, 15362020, 15401440, 15444471, 15459897, 15474723, 15478376, 15500094, 15579345, 15611540, 15611715, 15612351, 15624319, 15722913, 15783875, 15855974, 15931346, 16060935, 16145257, 16160205, 16209913, 16287031, 16329948, 16357906, 16479240, 16486887, 16500203, 16510780, 16695567, 16747691, 16752847, 16968445, 17165682, 17263384, 17360492, 17361294, 17418518, 17739603, 17740306, 17837109, 17866554, 17866564, 17883562, 17954820, 17956076, 18042999, 18282353, 18291148], 'request_id': '6c59f3d0-54a0-4e3a-a30a-4c2f92457627'}\n"
     ]
    }
   ],
   "source": [
    "print(output1)"
   ]
  },
  {
   "cell_type": "code",
   "execution_count": 12,
   "id": "ab00f748",
   "metadata": {},
   "outputs": [],
   "source": [
    "price_lookup={'apple':2.99,'orenge':3.99,'milk':4.99}"
   ]
  },
  {
   "cell_type": "code",
   "execution_count": 13,
   "id": "5ea427b7",
   "metadata": {},
   "outputs": [
    {
     "data": {
      "text/plain": [
       "2.99"
      ]
     },
     "execution_count": 13,
     "metadata": {},
     "output_type": "execute_result"
    }
   ],
   "source": [
    "price_lookup['apple']"
   ]
  },
  {
   "cell_type": "code",
   "execution_count": 11,
   "id": "78bb6f95",
   "metadata": {},
   "outputs": [
    {
     "ename": "NameError",
     "evalue": "name 'price_lookup' is not defined",
     "output_type": "error",
     "traceback": [
      "\u001b[1;31m---------------------------------------------------------------------------\u001b[0m",
      "\u001b[1;31mNameError\u001b[0m                                 Traceback (most recent call last)",
      "\u001b[1;32m~\\AppData\\Local\\Temp/ipykernel_15468/321577481.py\u001b[0m in \u001b[0;36m<module>\u001b[1;34m\u001b[0m\n\u001b[1;32m----> 1\u001b[1;33m \u001b[0mprice_lookup\u001b[0m\u001b[1;33m[\u001b[0m\u001b[1;34m'orenge'\u001b[0m\u001b[1;33m]\u001b[0m\u001b[1;33m\u001b[0m\u001b[1;33m\u001b[0m\u001b[0m\n\u001b[0m",
      "\u001b[1;31mNameError\u001b[0m: name 'price_lookup' is not defined"
     ]
    }
   ],
   "source": [
    "price_lookup['orenge']"
   ]
  },
  {
   "cell_type": "code",
   "execution_count": 14,
   "id": "01b618c1",
   "metadata": {},
   "outputs": [],
   "source": [
    "d={'k1':30,'k2':[1,2,3],'k3':{'insidekey':100}}"
   ]
  },
  {
   "cell_type": "code",
   "execution_count": 24,
   "id": "127b57f2",
   "metadata": {},
   "outputs": [],
   "source": [
    "d['k3']=400"
   ]
  },
  {
   "cell_type": "markdown",
   "id": "d537e37f",
   "metadata": {},
   "source": [
    "d"
   ]
  },
  {
   "cell_type": "code",
   "execution_count": 22,
   "id": "9836ce64",
   "metadata": {},
   "outputs": [],
   "source": [
    "d['k1']=300"
   ]
  },
  {
   "cell_type": "code",
   "execution_count": 23,
   "id": "c5cee47a",
   "metadata": {},
   "outputs": [
    {
     "name": "stdout",
     "output_type": "stream",
     "text": [
      "{'k1': 300, 'k2': 100, 'k3': 400}\n"
     ]
    }
   ],
   "source": [
    "print(d)"
   ]
  },
  {
   "cell_type": "code",
   "execution_count": 25,
   "id": "56bff5f8",
   "metadata": {},
   "outputs": [
    {
     "data": {
      "text/plain": [
       "dict_keys(['k1', 'k2', 'k3'])"
      ]
     },
     "execution_count": 25,
     "metadata": {},
     "output_type": "execute_result"
    }
   ],
   "source": [
    "d.keys()"
   ]
  },
  {
   "cell_type": "code",
   "execution_count": 26,
   "id": "909f37f2",
   "metadata": {},
   "outputs": [
    {
     "data": {
      "text/plain": [
       "dict_values([300, 100, 400])"
      ]
     },
     "execution_count": 26,
     "metadata": {},
     "output_type": "execute_result"
    }
   ],
   "source": [
    "d.values()"
   ]
  },
  {
   "cell_type": "code",
   "execution_count": 27,
   "id": "0ec494e3",
   "metadata": {},
   "outputs": [
    {
     "data": {
      "text/plain": [
       "dict_items([('k1', 300), ('k2', 100), ('k3', 400)])"
      ]
     },
     "execution_count": 27,
     "metadata": {},
     "output_type": "execute_result"
    }
   ],
   "source": [
    "d.items()"
   ]
  },
  {
   "cell_type": "code",
   "execution_count": 28,
   "id": "88a0a262",
   "metadata": {},
   "outputs": [],
   "source": [
    "t=('one',2)"
   ]
  },
  {
   "cell_type": "code",
   "execution_count": 29,
   "id": "59889fa3",
   "metadata": {},
   "outputs": [
    {
     "data": {
      "text/plain": [
       "'one'"
      ]
     },
     "execution_count": 29,
     "metadata": {},
     "output_type": "execute_result"
    }
   ],
   "source": [
    "t[0]"
   ]
  },
  {
   "cell_type": "code",
   "execution_count": 30,
   "id": "402ef336",
   "metadata": {},
   "outputs": [
    {
     "data": {
      "text/plain": [
       "2"
      ]
     },
     "execution_count": 30,
     "metadata": {},
     "output_type": "execute_result"
    }
   ],
   "source": [
    "t[-1]"
   ]
  },
  {
   "cell_type": "code",
   "execution_count": 31,
   "id": "20260f7f",
   "metadata": {},
   "outputs": [],
   "source": [
    "t=('a','b','c','a')"
   ]
  },
  {
   "cell_type": "code",
   "execution_count": 34,
   "id": "9b82b5cb",
   "metadata": {},
   "outputs": [
    {
     "data": {
      "text/plain": [
       "1"
      ]
     },
     "execution_count": 34,
     "metadata": {},
     "output_type": "execute_result"
    }
   ],
   "source": [
    "t.count('c')"
   ]
  },
  {
   "cell_type": "code",
   "execution_count": 37,
   "id": "959e7e8e",
   "metadata": {},
   "outputs": [
    {
     "data": {
      "text/plain": [
       "2"
      ]
     },
     "execution_count": 37,
     "metadata": {},
     "output_type": "execute_result"
    }
   ],
   "source": [
    "t.index('c')"
   ]
  },
  {
   "cell_type": "code",
   "execution_count": 38,
   "id": "dbc1b14f",
   "metadata": {},
   "outputs": [],
   "source": [
    "myset=set()"
   ]
  },
  {
   "cell_type": "code",
   "execution_count": 39,
   "id": "884b02aa",
   "metadata": {},
   "outputs": [
    {
     "data": {
      "text/plain": [
       "set()"
      ]
     },
     "execution_count": 39,
     "metadata": {},
     "output_type": "execute_result"
    }
   ],
   "source": [
    "myset"
   ]
  },
  {
   "cell_type": "code",
   "execution_count": 40,
   "id": "4dc222f3",
   "metadata": {},
   "outputs": [],
   "source": [
    "myset.add(1)"
   ]
  },
  {
   "cell_type": "code",
   "execution_count": 41,
   "id": "8b4f5f8f",
   "metadata": {},
   "outputs": [
    {
     "data": {
      "text/plain": [
       "{1}"
      ]
     },
     "execution_count": 41,
     "metadata": {},
     "output_type": "execute_result"
    }
   ],
   "source": [
    "myset"
   ]
  },
  {
   "cell_type": "code",
   "execution_count": 42,
   "id": "4af62a63",
   "metadata": {},
   "outputs": [],
   "source": [
    "mylist=[1,1,1,1,2,2,2,2,3,3,3]"
   ]
  },
  {
   "cell_type": "code",
   "execution_count": 43,
   "id": "bd6a1db9",
   "metadata": {},
   "outputs": [
    {
     "data": {
      "text/plain": [
       "{1, 2, 3}"
      ]
     },
     "execution_count": 43,
     "metadata": {},
     "output_type": "execute_result"
    }
   ],
   "source": [
    "set(mylist)"
   ]
  },
  {
   "cell_type": "code",
   "execution_count": 44,
   "id": "b60f3eaf",
   "metadata": {},
   "outputs": [],
   "source": [
    "a='missippie'"
   ]
  },
  {
   "cell_type": "code",
   "execution_count": 45,
   "id": "a8c3e485",
   "metadata": {},
   "outputs": [
    {
     "data": {
      "text/plain": [
       "{'e', 'i', 'm', 'p', 's'}"
      ]
     },
     "execution_count": 45,
     "metadata": {},
     "output_type": "execute_result"
    }
   ],
   "source": [
    "set(a)"
   ]
  },
  {
   "cell_type": "code",
   "execution_count": 46,
   "id": "5dda266f",
   "metadata": {},
   "outputs": [
    {
     "data": {
      "text/plain": [
       "False"
      ]
     },
     "execution_count": 46,
     "metadata": {},
     "output_type": "execute_result"
    }
   ],
   "source": [
    "1>2"
   ]
  },
  {
   "cell_type": "code",
   "execution_count": 47,
   "id": "ef545e38",
   "metadata": {},
   "outputs": [
    {
     "data": {
      "text/plain": [
       "True"
      ]
     },
     "execution_count": 47,
     "metadata": {},
     "output_type": "execute_result"
    }
   ],
   "source": [
    "1==1"
   ]
  },
  {
   "cell_type": "code",
   "execution_count": 48,
   "id": "72d07ad3",
   "metadata": {},
   "outputs": [
    {
     "data": {
      "text/plain": [
       "{1, 2, 3}"
      ]
     },
     "execution_count": 48,
     "metadata": {},
     "output_type": "execute_result"
    }
   ],
   "source": [
    "set([1,1,2,3])"
   ]
  },
  {
   "cell_type": "code",
   "execution_count": 49,
   "id": "b042d334",
   "metadata": {},
   "outputs": [
    {
     "name": "stdout",
     "output_type": "stream",
     "text": [
      "Writing myfile.txt\n"
     ]
    }
   ],
   "source": [
    "%%writefile myfile.txt\n",
    "this is a txet file\n",
    "this is a first line\n",
    "this is a second line\n",
    "this is a third line"
   ]
  },
  {
   "cell_type": "code",
   "execution_count": 50,
   "id": "05fe2bd7",
   "metadata": {},
   "outputs": [
    {
     "data": {
      "text/plain": [
       "'C:\\\\Users\\\\ELCOT'"
      ]
     },
     "execution_count": 50,
     "metadata": {},
     "output_type": "execute_result"
    }
   ],
   "source": [
    "pwd"
   ]
  },
  {
   "cell_type": "code",
   "execution_count": 51,
   "id": "558d9668",
   "metadata": {},
   "outputs": [],
   "source": [
    "myfile=open('myfile.txt')"
   ]
  },
  {
   "cell_type": "code",
   "execution_count": 52,
   "id": "63911855",
   "metadata": {},
   "outputs": [
    {
     "data": {
      "text/plain": [
       "'this is a txet file\\nthis is a first line\\nthis is a second line\\nthis is a third line\\n'"
      ]
     },
     "execution_count": 52,
     "metadata": {},
     "output_type": "execute_result"
    }
   ],
   "source": [
    "myfile.read()"
   ]
  },
  {
   "cell_type": "code",
   "execution_count": 54,
   "id": "69fe08d0",
   "metadata": {},
   "outputs": [
    {
     "data": {
      "text/plain": [
       "0"
      ]
     },
     "execution_count": 54,
     "metadata": {},
     "output_type": "execute_result"
    }
   ],
   "source": [
    "myfile.seek(0)"
   ]
  },
  {
   "cell_type": "code",
   "execution_count": 55,
   "id": "73337a8d",
   "metadata": {},
   "outputs": [
    {
     "data": {
      "text/plain": [
       "'this is a txet file\\nthis is a first line\\nthis is a second line\\nthis is a third line\\n'"
      ]
     },
     "execution_count": 55,
     "metadata": {},
     "output_type": "execute_result"
    }
   ],
   "source": [
    "myfile.read()"
   ]
  },
  {
   "cell_type": "code",
   "execution_count": 57,
   "id": "9a170ce3",
   "metadata": {},
   "outputs": [
    {
     "ename": "SyntaxError",
     "evalue": "cannot assign to function call (Temp/ipykernel_15468/2045058764.py, line 1)",
     "output_type": "error",
     "traceback": [
      "\u001b[1;36m  File \u001b[1;32m\"C:\\Users\\ELCOT\\AppData\\Local\\Temp/ipykernel_15468/2045058764.py\"\u001b[1;36m, line \u001b[1;32m1\u001b[0m\n\u001b[1;33m    with open('myfile.txt')as my_new_file.read():\u001b[0m\n\u001b[1;37m                              ^\u001b[0m\n\u001b[1;31mSyntaxError\u001b[0m\u001b[1;31m:\u001b[0m cannot assign to function call\n"
     ]
    }
   ],
   "source": [
    "with open('myfile.txt')as my_new_file.read():\n",
    "    contents=my_new_file.read()"
   ]
  },
  {
   "cell_type": "code",
   "execution_count": 59,
   "id": "a4d9dc81",
   "metadata": {},
   "outputs": [
    {
     "ename": "NameError",
     "evalue": "name 'contents' is not defined",
     "output_type": "error",
     "traceback": [
      "\u001b[1;31m---------------------------------------------------------------------------\u001b[0m",
      "\u001b[1;31mNameError\u001b[0m                                 Traceback (most recent call last)",
      "\u001b[1;32m~\\AppData\\Local\\Temp/ipykernel_15468/1036361799.py\u001b[0m in \u001b[0;36m<module>\u001b[1;34m\u001b[0m\n\u001b[1;32m----> 1\u001b[1;33m \u001b[0mcontents\u001b[0m\u001b[1;33m\u001b[0m\u001b[1;33m\u001b[0m\u001b[0m\n\u001b[0m",
      "\u001b[1;31mNameError\u001b[0m: name 'contents' is not defined"
     ]
    }
   ],
   "source": [
    " contents"
   ]
  },
  {
   "cell_type": "code",
   "execution_count": 60,
   "id": "ab94a433",
   "metadata": {},
   "outputs": [
    {
     "name": "stdout",
     "output_type": "stream",
     "text": [
      "Writing newfile.txt\n"
     ]
    }
   ],
   "source": [
    "%%writefile newfile.txt\n",
    "one\n",
    "two\n",
    "three"
   ]
  },
  {
   "cell_type": "code",
   "execution_count": 63,
   "id": "d37e7a88",
   "metadata": {},
   "outputs": [
    {
     "name": "stdout",
     "output_type": "stream",
     "text": [
      "one\n",
      "two\n",
      "three\n",
      "\n"
     ]
    }
   ],
   "source": [
    "with open('newfile.txt',mode='r')as f:\n",
    "    print(f.read())"
   ]
  },
  {
   "cell_type": "code",
   "execution_count": 64,
   "id": "2585af96",
   "metadata": {},
   "outputs": [
    {
     "data": {
      "text/plain": [
       "'C:\\\\Users\\\\ELCOT'"
      ]
     },
     "execution_count": 64,
     "metadata": {},
     "output_type": "execute_result"
    }
   ],
   "source": [
    "pwd"
   ]
  },
  {
   "cell_type": "code",
   "execution_count": 66,
   "id": "75fd85bd",
   "metadata": {},
   "outputs": [],
   "source": [
    "with open ('newfile.txt',mode='a')as f:\n",
    "    f.write('Four')"
   ]
  },
  {
   "cell_type": "code",
   "execution_count": 67,
   "id": "1c5a884d",
   "metadata": {},
   "outputs": [
    {
     "name": "stdout",
     "output_type": "stream",
     "text": [
      "one\n",
      "two\n",
      "three\n",
      "Four\n"
     ]
    }
   ],
   "source": [
    "with open('newfile.txt',mode='r')as f:\n",
    "    print(f.read())"
   ]
  },
  {
   "cell_type": "code",
   "execution_count": 68,
   "id": "5a797ec6",
   "metadata": {},
   "outputs": [
    {
     "data": {
      "text/plain": [
       "44"
      ]
     },
     "execution_count": 68,
     "metadata": {},
     "output_type": "execute_result"
    }
   ],
   "source": [
    "4*(6+5)"
   ]
  },
  {
   "cell_type": "code",
   "execution_count": 69,
   "id": "19a34d27",
   "metadata": {},
   "outputs": [
    {
     "data": {
      "text/plain": [
       "29"
      ]
     },
     "execution_count": 69,
     "metadata": {},
     "output_type": "execute_result"
    }
   ],
   "source": [
    "4*6+5"
   ]
  },
  {
   "cell_type": "code",
   "execution_count": 70,
   "id": "09597e99",
   "metadata": {},
   "outputs": [
    {
     "data": {
      "text/plain": [
       "34"
      ]
     },
     "execution_count": 70,
     "metadata": {},
     "output_type": "execute_result"
    }
   ],
   "source": [
    "4+6*5"
   ]
  },
  {
   "cell_type": "code",
   "execution_count": 71,
   "id": "b00c388d",
   "metadata": {},
   "outputs": [
    {
     "data": {
      "text/plain": [
       "4"
      ]
     },
     "execution_count": 71,
     "metadata": {},
     "output_type": "execute_result"
    }
   ],
   "source": [
    "4*(6-5)"
   ]
  },
  {
   "cell_type": "code",
   "execution_count": 72,
   "id": "e7adff6c",
   "metadata": {},
   "outputs": [
    {
     "data": {
      "text/plain": [
       "19"
      ]
     },
     "execution_count": 72,
     "metadata": {},
     "output_type": "execute_result"
    }
   ],
   "source": [
    "4*6-5"
   ]
  },
  {
   "cell_type": "code",
   "execution_count": 73,
   "id": "0bf3e5ac",
   "metadata": {},
   "outputs": [
    {
     "data": {
      "text/plain": [
       "-26"
      ]
     },
     "execution_count": 73,
     "metadata": {},
     "output_type": "execute_result"
    }
   ],
   "source": [
    "4-6*5"
   ]
  },
  {
   "cell_type": "code",
   "execution_count": 74,
   "id": "83add022",
   "metadata": {},
   "outputs": [
    {
     "data": {
      "text/plain": [
       "8.5"
      ]
     },
     "execution_count": 74,
     "metadata": {},
     "output_type": "execute_result"
    }
   ],
   "source": [
    "3+1.5+4"
   ]
  },
  {
   "cell_type": "code",
   "execution_count": 75,
   "id": "f23f7472",
   "metadata": {},
   "outputs": [
    {
     "data": {
      "text/plain": [
       "'e'"
      ]
     },
     "execution_count": 75,
     "metadata": {},
     "output_type": "execute_result"
    }
   ],
   "source": [
    "s='hello'\n",
    "s[1]"
   ]
  },
  {
   "cell_type": "code",
   "execution_count": 78,
   "id": "c243b5d0",
   "metadata": {},
   "outputs": [
    {
     "data": {
      "text/plain": [
       "'olleh'"
      ]
     },
     "execution_count": 78,
     "metadata": {},
     "output_type": "execute_result"
    }
   ],
   "source": [
    "s[::-1]"
   ]
  },
  {
   "cell_type": "code",
   "execution_count": 84,
   "id": "03a5a493",
   "metadata": {},
   "outputs": [],
   "source": [
    "l1=[0]*3"
   ]
  },
  {
   "cell_type": "code",
   "execution_count": 85,
   "id": "0dbd03a2",
   "metadata": {},
   "outputs": [
    {
     "data": {
      "text/plain": [
       "[0, 0, 0]"
      ]
     },
     "execution_count": 85,
     "metadata": {},
     "output_type": "execute_result"
    }
   ],
   "source": [
    "l1"
   ]
  },
  {
   "cell_type": "code",
   "execution_count": 86,
   "id": "a5192f56",
   "metadata": {},
   "outputs": [
    {
     "name": "stdout",
     "output_type": "stream",
     "text": [
      "[0, 0, 0]\n"
     ]
    }
   ],
   "source": [
    "l2=[]\n",
    "l2.append(0)\n",
    "l2.append(0)\n",
    "l2.append(0)\n",
    "print(l2)"
   ]
  },
  {
   "cell_type": "code",
   "execution_count": 89,
   "id": "50193bc4",
   "metadata": {},
   "outputs": [
    {
     "name": "stdout",
     "output_type": "stream",
     "text": [
      "[1, 2, [3, 4, 'Goodbye']]\n"
     ]
    }
   ],
   "source": [
    "list3=[1,2,[3,4,'hello']]\n",
    "list4=list3[2]\n",
    "list4[2]='Goodbye'\n",
    "#print(list4)\n",
    "print(list3)"
   ]
  },
  {
   "cell_type": "code",
   "execution_count": 90,
   "id": "84b1b1d0",
   "metadata": {},
   "outputs": [],
   "source": [
    "l=[5,3,4,6,1]\n",
    "l.sort()"
   ]
  },
  {
   "cell_type": "code",
   "execution_count": 91,
   "id": "57f72ae8",
   "metadata": {},
   "outputs": [
    {
     "data": {
      "text/plain": [
       "[1, 3, 4, 5, 6]"
      ]
     },
     "execution_count": 91,
     "metadata": {},
     "output_type": "execute_result"
    }
   ],
   "source": [
    "l"
   ]
  },
  {
   "cell_type": "code",
   "execution_count": 95,
   "id": "671ffb07",
   "metadata": {},
   "outputs": [
    {
     "data": {
      "text/plain": [
       "dict_values(['hello'])"
      ]
     },
     "execution_count": 95,
     "metadata": {},
     "output_type": "execute_result"
    }
   ],
   "source": [
    "d={'simple_key':'hello'}\n",
    "d.values()\n"
   ]
  },
  {
   "cell_type": "code",
   "execution_count": 100,
   "id": "19c2370c",
   "metadata": {},
   "outputs": [
    {
     "name": "stdout",
     "output_type": "stream",
     "text": [
      "hello\n"
     ]
    }
   ],
   "source": [
    "d={'k1':{'k2':'hello'}}\n",
    "c=d['k1']\n",
    "e=c['k2']\n",
    "print(e)"
   ]
  },
  {
   "cell_type": "code",
   "execution_count": 98,
   "id": "ce03df5c",
   "metadata": {},
   "outputs": [
    {
     "data": {
      "text/plain": [
       "<function dict.values>"
      ]
     },
     "execution_count": 98,
     "metadata": {},
     "output_type": "execute_result"
    }
   ],
   "source": [
    "c"
   ]
  },
  {
   "cell_type": "code",
   "execution_count": 112,
   "id": "8a4a757d",
   "metadata": {},
   "outputs": [
    {
     "name": "stdout",
     "output_type": "stream",
     "text": [
      "['hello']\n"
     ]
    }
   ],
   "source": [
    "d={'k1':[{'nestkey':['this is deep',['hello']]}]}\n",
    "print(d['k1'][0]['nestkey'][1])"
   ]
  },
  {
   "cell_type": "markdown",
   "id": "cdcd4a8f",
   "metadata": {},
   "source": [
    "# "
   ]
  },
  {
   "cell_type": "code",
   "execution_count": 122,
   "id": "d2ba0937",
   "metadata": {},
   "outputs": [
    {
     "name": "stdout",
     "output_type": "stream",
     "text": [
      "['hello']\n"
     ]
    }
   ],
   "source": [
    "d={'k1':[1,2,{'k2':['this is tricky',{'tough':[1,2,['hello']]}]}]}\n",
    "print(d['k1'][2]['k2'][1]['tough'][2])"
   ]
  },
  {
   "cell_type": "code",
   "execution_count": 123,
   "id": "c6cbb9b5",
   "metadata": {},
   "outputs": [
    {
     "data": {
      "text/plain": [
       "False"
      ]
     },
     "execution_count": 123,
     "metadata": {},
     "output_type": "execute_result"
    }
   ],
   "source": [
    "l1=[1,2,[3,4]]\n",
    "l2=[1,2,{'k1':4}]\n",
    "l1[2][0]>=l2[2]['k1']"
   ]
  },
  {
   "cell_type": "code",
   "execution_count": null,
   "id": "5dab9975",
   "metadata": {},
   "outputs": [],
   "source": []
  }
 ],
 "metadata": {
  "kernelspec": {
   "display_name": "Python 3 (ipykernel)",
   "language": "python",
   "name": "python3"
  },
  "language_info": {
   "codemirror_mode": {
    "name": "ipython",
    "version": 3
   },
   "file_extension": ".py",
   "mimetype": "text/x-python",
   "name": "python",
   "nbconvert_exporter": "python",
   "pygments_lexer": "ipython3",
   "version": "3.9.7"
  }
 },
 "nbformat": 4,
 "nbformat_minor": 5
}
