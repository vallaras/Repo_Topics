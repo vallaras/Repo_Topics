{
 "cells": [
  {
   "cell_type": "code",
   "execution_count": 16,
   "id": "838941e9",
   "metadata": {},
   "outputs": [
    {
     "name": "stdout",
     "output_type": "stream",
     "text": [
      "['e']\n"
     ]
    }
   ],
   "source": [
    "str1=\"teen\"\n",
    "lis=list(str1)\n",
    "res=[]\n",
    "for i in range(0,len(lis)):\n",
    "    for j in range(i+1,len(lis)):\n",
    "        if lis[i]==lis[j] and lis[i] not in res:\n",
    "            res.append(lis[i])\n",
    "\n",
    "print(res)"
   ]
  },
  {
   "cell_type": "code",
   "execution_count": 2,
   "id": "ceb975b5",
   "metadata": {},
   "outputs": [],
   "source": [
    "st=\"morvevel\"\n",
    "lis=list(st)"
   ]
  },
  {
   "cell_type": "code",
   "execution_count": 3,
   "id": "9bc8196a",
   "metadata": {},
   "outputs": [
    {
     "data": {
      "text/plain": [
       "list"
      ]
     },
     "execution_count": 3,
     "metadata": {},
     "output_type": "execute_result"
    }
   ],
   "source": [
    "type(lis)"
   ]
  },
  {
   "cell_type": "code",
   "execution_count": 18,
   "id": "68f53331",
   "metadata": {},
   "outputs": [
    {
     "name": "stdout",
     "output_type": "stream",
     "text": [
      "['l']\n"
     ]
    }
   ],
   "source": [
    "st=\"morvell\"\n",
    "lis=list(st)\n",
    "r=[]\n",
    "for i in range(0,len(lis)):\n",
    "    for j in range(i+1,len(lis)):\n",
    "        if lis[i]==lis[j] and lis[i] not in r:\n",
    "            r.append(lis[i])\n",
    "            \n",
    "print(r)    "
   ]
  },
  {
   "cell_type": "code",
   "execution_count": 24,
   "id": "a75d736a",
   "metadata": {},
   "outputs": [],
   "source": [
    "u=[1,2,3,2,3,4,5,3,3]\n",
    "a=[]\n",
    "for i in range(0,len(u)):\n",
    "    for j in range(i+1,len(u)):\n",
    "        if u[i]==u[j] and u[i] not in a:\n",
    "            a.append(u[i])"
   ]
  },
  {
   "cell_type": "code",
   "execution_count": 25,
   "id": "1d5aaef1",
   "metadata": {},
   "outputs": [
    {
     "name": "stdout",
     "output_type": "stream",
     "text": [
      "[2, 3]\n"
     ]
    }
   ],
   "source": [
    "print(a)"
   ]
  },
  {
   "cell_type": "code",
   "execution_count": 26,
   "id": "ef92c28f",
   "metadata": {},
   "outputs": [
    {
     "name": "stdout",
     "output_type": "stream",
     "text": [
      "Enter the student id:1\n",
      "{'name': 'frathunan', 'dept': 'cse', 'year': 4}\n",
      "Enter the student id:1\n",
      "{'name': 'frathunan', 'dept': 'cse', 'year': 4}\n",
      "Enter the student id:1\n",
      "{'name': 'frathunan', 'dept': 'cse', 'year': 4}\n"
     ]
    }
   ],
   "source": [
    "d={1:{\"name\":\"frathunan\",\"dept\":\"cse\",\"year\":4},\n",
    "  2:{\"name\":\"gopi\",\"dept\":\"b.com\",\"year\":3},\n",
    "  3:{\"name\":\"santhosh\",\"dept\":\"EEE\",\"year\":4}}\n",
    "b=list(d.keys())\n",
    "for i in range(len(b)):\n",
    "    x = int(input(\"Enter the student id:\"))\n",
    "    if x in b:\n",
    "        print(d[x])"
   ]
  },
  {
   "cell_type": "code",
   "execution_count": null,
   "id": "3618231c",
   "metadata": {},
   "outputs": [],
   "source": [
    " c=list(d.values())"
   ]
  },
  {
   "cell_type": "code",
   "execution_count": null,
   "id": "7e72a30f",
   "metadata": {},
   "outputs": [],
   "source": [
    "count = 0\n",
    "while (count < 3):    \n",
    "    count = count + 1\n",
    "    print(\"Hello Geek\")"
   ]
  },
  {
   "cell_type": "code",
   "execution_count": null,
   "id": "46645a1f",
   "metadata": {},
   "outputs": [],
   "source": []
  }
 ],
 "metadata": {
  "kernelspec": {
   "display_name": "Python 3 (ipykernel)",
   "language": "python",
   "name": "python3"
  },
  "language_info": {
   "codemirror_mode": {
    "name": "ipython",
    "version": 3
   },
   "file_extension": ".py",
   "mimetype": "text/x-python",
   "name": "python",
   "nbconvert_exporter": "python",
   "pygments_lexer": "ipython3",
   "version": "3.9.7"
  }
 },
 "nbformat": 4,
 "nbformat_minor": 5
}
